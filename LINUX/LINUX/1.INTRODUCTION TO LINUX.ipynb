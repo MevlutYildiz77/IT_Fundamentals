{
 "cells": [
  {
   "cell_type": "markdown",
   "id": "766ad9f4",
   "metadata": {},
   "source": [
    "# What is Linux?"
   ]
  },
  {
   "cell_type": "raw",
   "id": "cd8da804",
   "metadata": {},
   "source": [
    "Linux is an operating system just like Windows, iOS, and Mac OS. In fact, Android, one of the world's most popular platforms, is operated by the Linux operating system. "
   ]
  },
  {
   "cell_type": "markdown",
   "id": "a9d4d95b",
   "metadata": {},
   "source": [
    "# operating system\n",
    " a software that manages all of your desktop or laptop's hardware resources.the operating system manages the communication between your software and your hardware."
   ]
  },
  {
   "cell_type": "markdown",
   "id": "16bb3876",
   "metadata": {},
   "source": [
    "# Operating System= Graphiccal interface + X server + GNU Core + Linux Kernel + Boot-Loader"
   ]
  },
  {
   "cell_type": "markdown",
   "id": "b7895371",
   "metadata": {},
   "source": [
    "# The History of Linux"
   ]
  },
  {
   "cell_type": "code",
   "execution_count": null,
   "id": "a2f37469",
   "metadata": {},
   "outputs": [],
   "source": [
    "Linus Torvalds invented Linux."
   ]
  },
  {
   "cell_type": "raw",
   "id": "9b94aeb8",
   "metadata": {},
   "source": [
    "Linus announces the kernel to the world (1991).\n",
    "Release of the first \"major\" Linux distributions (1993).\n",
    "Linux kernel hits 1.0 (1994).\n",
    "KDE (1996) / GNOME (1999) projects are released.\n",
    "First release of Linux-based Android (1998).\n",
    "Kernel development moves to Git (2005).\n",
    "Today Linux is everywhere. Supercomputers, smartphones, desktop, web servers, tablets, laptops and home appliances like washing machines, DVD players, routers, modems, cars, refrigerators, etc use Linux OS."
   ]
  },
  {
   "cell_type": "markdown",
   "id": "61bd2f22",
   "metadata": {},
   "source": [
    "# The components of Linux"
   ]
  },
  {
   "cell_type": "code",
   "execution_count": null,
   "id": "4a27a7e9",
   "metadata": {},
   "outputs": [],
   "source": [
    "Hardware\n",
    "Boot-loader\n",
    "Kernel\n",
    "GNU Core\n",
    "X server\n",
    "Graphical User Interface\n",
    "Applications"
   ]
  },
  {
   "cell_type": "raw",
   "id": "068e6470",
   "metadata": {},
   "source": [
    "Hardware\n",
    "Computer hardware is the physical components that a computer system requires to function.eX: motherboard, graphics card, CPU (Central Processing Unit), power supply"
   ]
  },
  {
   "cell_type": "code",
   "execution_count": null,
   "id": "5cf080f3",
   "metadata": {},
   "outputs": [],
   "source": [
    "Boot-loader\n",
    "The software that manages the boot process of your computer."
   ]
  },
  {
   "cell_type": "raw",
   "id": "0c0c8477",
   "metadata": {},
   "source": [
    "Kernel\n",
    "It is the core part of the operating system and manages the CPU, memory, and peripheral devices. The kernel is the lowest level of the OS."
   ]
  },
  {
   "cell_type": "code",
   "execution_count": null,
   "id": "3702acd5",
   "metadata": {},
   "outputs": [],
   "source": [
    "GNU Core\n",
    "The GNU Core Utilities are the basic file, shell and text manipulation utilities of the GNU operating system. "
   ]
  },
  {
   "cell_type": "code",
   "execution_count": null,
   "id": "ee25bb2d",
   "metadata": {},
   "outputs": [],
   "source": [
    "X server\n",
    "This is the sub-system that displays the graphics on your monitor."
   ]
  },
  {
   "cell_type": "raw",
   "id": "e8481490",
   "metadata": {},
   "source": [
    "Graphical User Interface\n",
    "The Linux GUI is often referred to as a Desktop Environment.This is the piece that the users actually interact with. Several desktop environments are available to choose from (GNOME, Cinnamon, Mate, Pantheon, Enlightenment, KDE, Xfce, and so on)."
   ]
  },
  {
   "cell_type": "code",
   "execution_count": null,
   "id": "46ddf7d9",
   "metadata": {},
   "outputs": [],
   "source": [
    "Applications"
   ]
  },
  {
   "cell_type": "markdown",
   "id": "4c07eed8",
   "metadata": {},
   "source": [
    "# Popular Linux Distributions"
   ]
  },
  {
   "cell_type": "code",
   "execution_count": null,
   "id": "33847d74",
   "metadata": {},
   "outputs": [],
   "source": [
    "Linux Mint\n",
    "Debian\n",
    "Ubuntu\n",
    "OpenSUSE\n",
    "Manjaro\n",
    "Fedora\n",
    "Red Hat Enterprise Linux (RHEL)"
   ]
  },
  {
   "cell_type": "markdown",
   "id": "da9b5d7f",
   "metadata": {},
   "source": [
    "Linux Mint\n",
    "Linux Mint is a community-driven Linux distribution based on Ubuntu or Debian that strives to be a \"modern, elegant and comfortable operating system which is both powerful and easy to use.\" Linux Mint provides full out-of-the-box multimedia support by including some proprietary software, such as multimedia codecs, and comes bundled with a variety of free and open-source applications."
   ]
  },
  {
   "cell_type": "raw",
   "id": "de8c590e",
   "metadata": {},
   "source": [
    "Debian\n",
    "Debian is an independent Linux distribution that was started by the joint association of individuals with the desire to make a free Operating System available to the world. It is designed to be a computing powerhouse capable of running on different types of hardware especially when being used for development."
   ]
  },
  {
   "cell_type": "raw",
   "id": "09198ea3",
   "metadata": {},
   "source": [
    "Ubuntu\n",
    "Ubuntu is one of the most popular, stable, and best fitted for the newcomers, which is a Debian based Linux distro. It has its own software repositories, which regularly synced with the Debian repository so that all the applications get stable and latest release."
   ]
  },
  {
   "cell_type": "raw",
   "id": "9b295683",
   "metadata": {},
   "source": [
    "OpenSUSE\n",
    "openSUSE is a professionally and community-supported Operating System designed to provide field experts with a reliable computing environment for their work. It is distributed in 2 versions, Leap – a Long Term Support (LTS) release, and Tumbleweed – a rolling release, and they both use the YaST package manager for delivering applications to users. openSUSE is an independent Linux distribution that is sponsored by SUSE Linux in collaboration with other companies and it aims to dramatically simplify the process of developing and packaging software for developers and vendors."
   ]
  },
  {
   "cell_type": "raw",
   "id": "3ea56197",
   "metadata": {},
   "source": [
    "Manjaro\n",
    "Manjaro is an accessible, friendly, open-source Linux distribution and community. Based on Arch Linux, providing all the benefits of cutting-edge software combined with a focus on getting started quickly, automated tools to require less manual intervention, and help readily available when needed."
   ]
  },
  {
   "cell_type": "raw",
   "id": "e13794af",
   "metadata": {},
   "source": [
    "Fedora\n",
    "Fedora is a free and open-source Linux distribution built with the aim of encouraging cutting edge technologies by spearheading innovation, working closely with Linux communities, and being amongst the first to integrate new technologies. It is sponsored by the Fedora Project and owned by Red Hat, developed independently of any other Linux distribution."
   ]
  },
  {
   "cell_type": "raw",
   "id": "fc35dd71",
   "metadata": {},
   "source": [
    "Red Hat Enterprise Linux (RHEL)\n",
    "Red Hat Enterprise Linux (RHEL) is a Linux-based operating system from Red Hat designed for businesses. RHEL can work on desktops, on servers, in hypervisors or in the cloud. Red Hat and its community-supported counterpart, Fedora, are among the most widely used Linux distributions in the world."
   ]
  },
  {
   "cell_type": "markdown",
   "id": "9532dc4b",
   "metadata": {},
   "source": [
    "# Linux Embedded Systems"
   ]
  },
  {
   "cell_type": "raw",
   "id": "b86fd0bd",
   "metadata": {},
   "source": [
    "An embedded system is a computer system that is dedicated to one or two specific functions. This system is embedded as part of a complete computer system including hardware such as mechanical and electrical components."
   ]
  },
  {
   "cell_type": "raw",
   "id": "569f81c2",
   "metadata": {},
   "source": [
    "Many systems that use Linux embedded are:\n",
    "\n",
    "Smart TVs\n",
    "Tablet PCs\n",
    "Navigation devices\n",
    "Wireless routers\n",
    "Other industrial and consumer electronic equipment"
   ]
  },
  {
   "cell_type": "code",
   "execution_count": null,
   "id": "875ff775",
   "metadata": {},
   "outputs": [],
   "source": [
    "gıt-2005"
   ]
  },
  {
   "cell_type": "code",
   "execution_count": null,
   "id": "5948b139",
   "metadata": {},
   "outputs": [],
   "source": [
    "WSL 2- 2019"
   ]
  },
  {
   "cell_type": "markdown",
   "id": "f86621de",
   "metadata": {},
   "source": [
    "# Open Source"
   ]
  },
  {
   "cell_type": "code",
   "execution_count": null,
   "id": "f4204d40",
   "metadata": {},
   "outputs": [],
   "source": [
    "source code that anyone can inspect, modify and enhance"
   ]
  },
  {
   "cell_type": "markdown",
   "id": "b447814b",
   "metadata": {},
   "source": [
    "# Desktop Applications"
   ]
  },
  {
   "cell_type": "code",
   "execution_count": null,
   "id": "0125740b",
   "metadata": {},
   "outputs": [],
   "source": [
    "LibreOffice\n",
    "VLC Media Player\n",
    "GIMP,\n",
    "Shotcut,\n",
    "Brave,\n",
    "Audacity,\n",
    "KeePass,\n",
    "Thunderbird,\n",
    "FileZilla,\n",
    "Linux"
   ]
  },
  {
   "cell_type": "markdown",
   "id": "ebda90b8",
   "metadata": {},
   "source": [
    "# Server Applications"
   ]
  },
  {
   "cell_type": "code",
   "execution_count": null,
   "id": "bc8f81f2",
   "metadata": {},
   "outputs": [],
   "source": [
    "Apache WEb Server\n",
    "NGINX,\n",
    "MySQL,\n",
    "Samba,\n",
    "ownCloud"
   ]
  },
  {
   "cell_type": "markdown",
   "id": "c2b547ef",
   "metadata": {},
   "source": [
    "# Package Management Tool"
   ]
  },
  {
   "cell_type": "code",
   "execution_count": null,
   "id": "e64f9d57",
   "metadata": {},
   "outputs": [],
   "source": [
    "Dpkg,\n",
    "apt-get,\n",
    "rpm:Red Hat Package Manager,\n",
    "    yum: yellowdog updater modified"
   ]
  },
  {
   "cell_type": "markdown",
   "id": "21ba1960",
   "metadata": {},
   "source": [
    "# Linux Alternatives"
   ]
  },
  {
   "cell_type": "code",
   "execution_count": null,
   "id": "a658c7a9",
   "metadata": {},
   "outputs": [],
   "source": [
    "LMS,\n",
    "linuxzoo.net,\n",
    "WSL2\n",
    "GIT  (https://git-scm.com/downloads)\n",
    "https://copy.sh/\n",
    "https://cocals.com/doc/terminal.html\n",
    "https://www.virtualbox.org/wiki/Downloads\n",
    "https://www.vmware.com/products/workstation-player/workstation-player-evaluation.html\n",
    "https://ubuntu.com/download/desktop\n",
    "https://debian.org/distrib/netinst"
   ]
  },
  {
   "cell_type": "markdown",
   "id": "adaefdd6",
   "metadata": {},
   "source": []
  },
  {
   "cell_type": "code",
   "execution_count": null,
   "id": "8b4d6831",
   "metadata": {},
   "outputs": [],
   "source": []
  },
  {
   "cell_type": "markdown",
   "id": "34d1d922",
   "metadata": {},
   "source": []
  }
 ],
 "metadata": {
  "kernelspec": {
   "display_name": "Python 3",
   "language": "python",
   "name": "python3"
  },
  "language_info": {
   "codemirror_mode": {
    "name": "ipython",
    "version": 3
   },
   "file_extension": ".py",
   "mimetype": "text/x-python",
   "name": "python",
   "nbconvert_exporter": "python",
   "pygments_lexer": "ipython3",
   "version": "3.8.8"
  }
 },
 "nbformat": 4,
 "nbformat_minor": 5
}
