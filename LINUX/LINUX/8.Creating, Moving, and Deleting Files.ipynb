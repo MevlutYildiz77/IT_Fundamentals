{
 "cells": [
  {
   "cell_type": "markdown",
   "id": "ee71ccdf",
   "metadata": {},
   "source": [
    "# Creating, moving, and deleting files and directories."
   ]
  },
  {
   "cell_type": "code",
   "execution_count": null,
   "id": "a8ef52c0",
   "metadata": {},
   "outputs": [],
   "source": [
    "touch - create a file - touch filename\n",
    "\n",
    "rm - delete the file - rm -option filename - Delete a directory rm -r <DIRECTORY>\n",
    "Option -r includes the contents of a directory and the contents of all subdirectories when you remove a directory.\n",
    "\n",
    "Option -i prevents the accidental removal of existing files or directories.\n",
    "\n",
    "cp - used to copy file or folder - Copy a directory cp -r <SOURCE> <DESTINATION>\n",
    "\n",
    "mv - used to move file or folder - Move a directory mv <SOURCE> <DESTINATION>\n",
    "\n",
    "mkdir - create a folder - Create a new directory mkdir <NAME>\n",
    "\n",
    "rmdir - delete folder - Delete an empty directory rmdir <DIRECTORY>"
   ]
  },
  {
   "cell_type": "code",
   "execution_count": null,
   "id": "8a3ff554",
   "metadata": {},
   "outputs": [],
   "source": [
    "Which Linux command would delete a directory?\n",
    "rm -r "
   ]
  },
  {
   "cell_type": "markdown",
   "id": "0a2d92d9",
   "metadata": {},
   "source": [
    "# Case Sensitivity"
   ]
  },
  {
   "cell_type": "markdown",
   "id": "12f6fb12",
   "metadata": {},
   "source": [
    "Lower-case and upper-case letters have different ASCII representation.\n",
    "touch newfile\n",
    "\n",
    "touch Newfile\n",
    "\n",
    "The commands above will create two different files.\n",
    "\n"
   ]
  },
  {
   "cell_type": "markdown",
   "id": "21339564",
   "metadata": {},
   "source": [
    "# Simple Globbing"
   ]
  },
  {
   "cell_type": "code",
   "execution_count": null,
   "id": "f60fbad0",
   "metadata": {},
   "outputs": [],
   "source": [
    "Globbing is primarily used to match patterns in filenames or text by using a wildcard character to create the pattern.\n",
    "\n",
    "******************\n",
    "? (Question mark) : Match any single character\n",
    "\n",
    "* (Asterisk) : Match any number of character(s)\n",
    "\n",
    "[] (Brackets) : Match character from a range\n",
    "\n",
    "^ (Caret) : Used to match starting character\n",
    "\n",
    "$ (Dollar sign) : Used to match ending character\n",
    "\n",
    "{} (Curly brace) : Used to match more than one pattern\n",
    "\n",
    "| Pipe : Used for applying more than one condition\n",
    "***********************"
   ]
  },
  {
   "cell_type": "code",
   "execution_count": null,
   "id": "c0176fbc",
   "metadata": {},
   "outputs": [],
   "source": [
    "************\n",
    "[[:upper:]] or [[A-Z]] - match upper-case character\n",
    "[[:lower:]] or [[a-z]] - match lower-case character\n",
    "[[:digit:]] or [[0-9]] - match digits\n",
    "[[:alpha:]] or [[a-zA-Z]] - match either case character\n",
    "[[:alphanum:]] or [[a-zA-Z0-9]] - match alphanumeric\n",
    "*****************"
   ]
  },
  {
   "cell_type": "code",
   "execution_count": null,
   "id": "9d92c3f3",
   "metadata": {},
   "outputs": [],
   "source": [
    "Which Linux command is used to delete system files and directories?\n",
    "rm -rf "
   ]
  },
  {
   "cell_type": "code",
   "execution_count": null,
   "id": "ab73a650",
   "metadata": {},
   "outputs": [],
   "source": []
  },
  {
   "cell_type": "code",
   "execution_count": null,
   "id": "934a9d3c",
   "metadata": {},
   "outputs": [],
   "source": []
  }
 ],
 "metadata": {
  "kernelspec": {
   "display_name": "Python 3",
   "language": "python",
   "name": "python3"
  },
  "language_info": {
   "codemirror_mode": {
    "name": "ipython",
    "version": 3
   },
   "file_extension": ".py",
   "mimetype": "text/x-python",
   "name": "python",
   "nbconvert_exporter": "python",
   "pygments_lexer": "ipython3",
   "version": "3.8.8"
  }
 },
 "nbformat": 4,
 "nbformat_minor": 5
}
