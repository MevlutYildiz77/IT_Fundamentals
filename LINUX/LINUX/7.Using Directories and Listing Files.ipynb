{
 "cells": [
  {
   "cell_type": "markdown",
   "id": "bbdfbb38",
   "metadata": {},
   "source": [
    "# FILESYSTEM HIERARCHY STANDART = FHS"
   ]
  },
  {
   "cell_type": "code",
   "execution_count": null,
   "id": "7ad7b4b6",
   "metadata": {},
   "outputs": [],
   "source": [
    "Home directory of the root user:\n",
    "    /root"
   ]
  },
  {
   "cell_type": "code",
   "execution_count": null,
   "id": "65629dc5",
   "metadata": {},
   "outputs": [],
   "source": [
    "essential command binaries:\n",
    "    /bin"
   ]
  },
  {
   "cell_type": "code",
   "execution_count": null,
   "id": "51706aa7",
   "metadata": {},
   "outputs": [],
   "source": [
    "boot loader files:\n",
    "    /boot"
   ]
  },
  {
   "cell_type": "code",
   "execution_count": null,
   "id": "a860d818",
   "metadata": {},
   "outputs": [],
   "source": [
    "essential device files:\n",
    "    /dev"
   ]
  },
  {
   "cell_type": "code",
   "execution_count": null,
   "id": "a650dcc4",
   "metadata": {},
   "outputs": [],
   "source": [
    "Host-specific cofiguration files:\n",
    "    /etc"
   ]
  },
  {
   "cell_type": "code",
   "execution_count": null,
   "id": "2377e6c5",
   "metadata": {},
   "outputs": [],
   "source": [
    "User's home irectories:\n",
    "/home"
   ]
  },
  {
   "cell_type": "code",
   "execution_count": null,
   "id": "ddc9f154",
   "metadata": {},
   "outputs": [],
   "source": [
    "Libraries essential for the binaries:\n",
    "    /lib"
   ]
  },
  {
   "cell_type": "code",
   "execution_count": null,
   "id": "cb1bd31d",
   "metadata": {},
   "outputs": [],
   "source": [
    "Temporarily mounted filsystems:\n",
    "    /mnt"
   ]
  },
  {
   "cell_type": "code",
   "execution_count": null,
   "id": "893d9580",
   "metadata": {},
   "outputs": [],
   "source": [
    "Optional application packages:\n",
    "    /opt"
   ]
  },
  {
   "cell_type": "code",
   "execution_count": null,
   "id": "625c1b4b",
   "metadata": {},
   "outputs": [],
   "source": [
    "Contains information about system:\n",
    "    /proc"
   ]
  },
  {
   "cell_type": "code",
   "execution_count": null,
   "id": "7d168569",
   "metadata": {},
   "outputs": [],
   "source": [
    "Essential system binaries:\n",
    "    /sbin"
   ]
  },
  {
   "cell_type": "code",
   "execution_count": null,
   "id": "bf7b2272",
   "metadata": {},
   "outputs": [],
   "source": [
    "Temporarily files:\n",
    "    /tmp"
   ]
  },
  {
   "cell_type": "code",
   "execution_count": null,
   "id": "77b4343d",
   "metadata": {},
   "outputs": [],
   "source": [
    "Variale Data files:\n",
    "    /var"
   ]
  },
  {
   "cell_type": "markdown",
   "id": "33384164",
   "metadata": {},
   "source": [
    "/ (Root) : Primary hierarchy root and root directory of the entire file system hierarchy. Every single file and directory starts from the root directory.\n",
    "/bin : Essential command binaries that need to be available in single user mode.\n",
    "/boot : Boot loader files.\n",
    "/dev : Essential device files.\n",
    "/etc : Host-specific system-wide configuration files.\n",
    "/home : Users’ home directories, containing saved files. Home directories for all users to store their personal files\n",
    "/lib : Libraries essential for the binaries in /bin/ and /sbin/\n",
    "/mnt : Temporarily mounted filesystems.\n",
    "/opt : Optional application software packages.\n",
    "/proc : Contains information about system process.\n",
    "/sbin : Essential system binaries, e.g., fsck, init, route.\n",
    "/srv : Site-specific data served by this system, such as data and scripts for web servers, data offered by FTP servers, and repositories for version control systems. srv stands for service.\n",
    "/tmp : Temporary files. Often not preserved between system reboots, and may be severely size restricted.\n",
    "/usr : Secondary hierarchy for read-only user data; contains the majority of (multi-)user utilities and applications."
   ]
  },
  {
   "cell_type": "markdown",
   "id": "579e1c31",
   "metadata": {},
   "source": [
    "# Hidden Files and Directories"
   ]
  },
  {
   "cell_type": "code",
   "execution_count": null,
   "id": "5c07f717",
   "metadata": {},
   "outputs": [],
   "source": [
    ". (a single period)\n",
    "Hidden files can be listed via ls using the -a option (meaning show all files)."
   ]
  },
  {
   "cell_type": "markdown",
   "id": "e811cd0b",
   "metadata": {},
   "source": [
    "# Home Directories"
   ]
  },
  {
   "cell_type": "raw",
   "id": "e6248a5d",
   "metadata": {},
   "source": [
    "User home directories contain files specific to users. A directory under /home is typically created for every ordinary user on the Linux system."
   ]
  },
  {
   "cell_type": "code",
   "execution_count": null,
   "id": "47b78ab4",
   "metadata": {},
   "outputs": [],
   "source": [
    "cd (change directory) without a specified path\n",
    "\n",
    "~ used to represent the user's home directory\n",
    "\n",
    "$HOME environment variable used to store home directory path\n",
    "\n",
    "To navigate to your home directory, use cd or cd ~"
   ]
  },
  {
   "cell_type": "markdown",
   "id": "7200eccc",
   "metadata": {},
   "source": [
    "# Absolute and Relative Paths"
   ]
  },
  {
   "cell_type": "code",
   "execution_count": null,
   "id": "b6258f32",
   "metadata": {},
   "outputs": [],
   "source": [
    "absolute path starts with a /"
   ]
  },
  {
   "cell_type": "markdown",
   "id": "e0515561",
   "metadata": {},
   "source": []
  },
  {
   "cell_type": "code",
   "execution_count": null,
   "id": "2433939c",
   "metadata": {},
   "outputs": [],
   "source": []
  },
  {
   "cell_type": "markdown",
   "id": "3b13ac97",
   "metadata": {},
   "source": [
    "\n",
    "\n"
   ]
  },
  {
   "cell_type": "code",
   "execution_count": null,
   "id": "58382a20",
   "metadata": {},
   "outputs": [],
   "source": []
  },
  {
   "cell_type": "code",
   "execution_count": null,
   "id": "88baf1e3",
   "metadata": {},
   "outputs": [],
   "source": []
  },
  {
   "cell_type": "code",
   "execution_count": null,
   "id": "b834ca2a",
   "metadata": {},
   "outputs": [],
   "source": []
  },
  {
   "cell_type": "code",
   "execution_count": null,
   "id": "b55a69bc",
   "metadata": {},
   "outputs": [],
   "source": []
  },
  {
   "cell_type": "code",
   "execution_count": null,
   "id": "677b6d02",
   "metadata": {},
   "outputs": [],
   "source": []
  },
  {
   "cell_type": "code",
   "execution_count": null,
   "id": "0a785ecd",
   "metadata": {},
   "outputs": [],
   "source": []
  },
  {
   "cell_type": "markdown",
   "id": "eb630c0f",
   "metadata": {},
   "source": []
  },
  {
   "cell_type": "code",
   "execution_count": null,
   "id": "6e5f0c10",
   "metadata": {},
   "outputs": [],
   "source": []
  },
  {
   "cell_type": "markdown",
   "id": "fe12b792",
   "metadata": {},
   "source": [
    "# SSH(Secure Shell) Command"
   ]
  },
  {
   "cell_type": "code",
   "execution_count": null,
   "id": "8ecf7eef",
   "metadata": {},
   "outputs": [],
   "source": [
    "SSH = it is a protocol use to securely connect to a remote server/system"
   ]
  },
  {
   "cell_type": "raw",
   "id": "ecca84fd",
   "metadata": {},
   "source": [
    "ssh user@host(IP/Domain_name):\n",
    "ssh -i cert.pem ec2-user@54.93.34.220"
   ]
  },
  {
   "cell_type": "markdown",
   "id": "8dd1a81e",
   "metadata": {},
   "source": [
    "# Changing the promt -Ps1(optional)"
   ]
  },
  {
   "cell_type": "code",
   "execution_count": null,
   "id": "a071d7d5",
   "metadata": {},
   "outputs": [],
   "source": [
    "$echo $PS1\n",
    "$PS1='-->'\n",
    "$PS1='my_new_promt: '\n",
    "$PS1='$PWD: '"
   ]
  },
  {
   "cell_type": "code",
   "execution_count": null,
   "id": "da896950",
   "metadata": {},
   "outputs": [],
   "source": []
  }
 ],
 "metadata": {
  "kernelspec": {
   "display_name": "Python 3",
   "language": "python",
   "name": "python3"
  },
  "language_info": {
   "codemirror_mode": {
    "name": "ipython",
    "version": 3
   },
   "file_extension": ".py",
   "mimetype": "text/x-python",
   "name": "python",
   "nbconvert_exporter": "python",
   "pygments_lexer": "ipython3",
   "version": "3.8.8"
  }
 },
 "nbformat": 4,
 "nbformat_minor": 5
}
