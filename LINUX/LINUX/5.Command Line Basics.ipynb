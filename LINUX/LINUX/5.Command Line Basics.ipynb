{
 "cells": [
  {
   "cell_type": "markdown",
   "id": "ab981dec",
   "metadata": {},
   "source": [
    "# File Permission"
   ]
  },
  {
   "cell_type": "code",
   "execution_count": null,
   "id": "cb4164e6",
   "metadata": {},
   "outputs": [],
   "source": [
    "_rw-r--r--         :\n",
    "    _ :indicates files"
   ]
  },
  {
   "cell_type": "code",
   "execution_count": null,
   "id": "adedbc7c",
   "metadata": {},
   "outputs": [],
   "source": [
    "drwx-r-xr-x:\n",
    "    d : indicates directory"
   ]
  },
  {
   "cell_type": "code",
   "execution_count": null,
   "id": "58435889",
   "metadata": {},
   "outputs": [],
   "source": [
    "read = 4\n",
    "write = 2\n",
    "execute =1 "
   ]
  },
  {
   "cell_type": "code",
   "execution_count": null,
   "id": "5c6ce7a7",
   "metadata": {},
   "outputs": [],
   "source": [
    "chmod u=rwx, g=rx, o=r myfile\n",
    "chmod 754 myfile"
   ]
  },
  {
   "cell_type": "code",
   "execution_count": null,
   "id": "a0a4fb01",
   "metadata": {},
   "outputs": [],
   "source": [
    "add execte permission for the owner:\n",
    "    u+x"
   ]
  },
  {
   "cell_type": "code",
   "execution_count": null,
   "id": "6f84f679",
   "metadata": {},
   "outputs": [],
   "source": [
    "remove execte permission for the owner:\n",
    "    u-x"
   ]
  },
  {
   "cell_type": "code",
   "execution_count": null,
   "id": "2bac5e4f",
   "metadata": {},
   "outputs": [],
   "source": [
    "add execte permission for the owner, group and world:\n",
    "    +x or a+x"
   ]
  },
  {
   "cell_type": "code",
   "execution_count": null,
   "id": "402a2bab",
   "metadata": {},
   "outputs": [],
   "source": [
    "remove the read and write permission from anyone besides the owner and group owner:\n",
    "o-rw"
   ]
  },
  {
   "cell_type": "markdown",
   "id": "14348fe5",
   "metadata": {},
   "source": [
    "# Ping Command"
   ]
  },
  {
   "cell_type": "code",
   "execution_count": null,
   "id": "7e0ac70e",
   "metadata": {},
   "outputs": [],
   "source": [
    "ping host-name/IP:\n",
    "    ping 54.93.34.220"
   ]
  },
  {
   "cell_type": "markdown",
   "id": "98d6fb21",
   "metadata": {},
   "source": [
    "# SSH(Secure Shell) Command"
   ]
  },
  {
   "cell_type": "code",
   "execution_count": null,
   "id": "49f1ba8b",
   "metadata": {},
   "outputs": [],
   "source": [
    "SSH = it is a protocol use to securely connect to a remote server/system"
   ]
  },
  {
   "cell_type": "code",
   "execution_count": null,
   "id": "b79d73ab",
   "metadata": {},
   "outputs": [],
   "source": [
    "ssh user@host(IP/Domain_name):\n",
    "ssh -i cert.pem ec2-user@54.93.34.220"
   ]
  },
  {
   "cell_type": "code",
   "execution_count": null,
   "id": "d3121265",
   "metadata": {},
   "outputs": [],
   "source": []
  }
 ],
 "metadata": {
  "kernelspec": {
   "display_name": "Python 3",
   "language": "python",
   "name": "python3"
  },
  "language_info": {
   "codemirror_mode": {
    "name": "ipython",
    "version": 3
   },
   "file_extension": ".py",
   "mimetype": "text/x-python",
   "name": "python",
   "nbconvert_exporter": "python",
   "pygments_lexer": "ipython3",
   "version": "3.8.8"
  }
 },
 "nbformat": 4,
 "nbformat_minor": 5
}
