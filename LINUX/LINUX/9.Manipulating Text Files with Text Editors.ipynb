{
 "cells": [
  {
   "cell_type": "markdown",
   "id": "c463287a",
   "metadata": {},
   "source": [
    "# Vim Editor = Vi Improved"
   ]
  },
  {
   "cell_type": "raw",
   "id": "b28ea09b",
   "metadata": {},
   "source": [
    "Command Mode: you can not write. If you want to write youshould enter the insert mode. When you start Vim, you are placed in command mode \n",
    "İnsert Mode: when you are insert mode to pass to the command mode you should press \"Esc\""
   ]
  },
  {
   "cell_type": "markdown",
   "id": "d93293fb",
   "metadata": {},
   "source": [
    "Commands that switch the editor to insert mode:"
   ]
  },
  {
   "cell_type": "code",
   "execution_count": null,
   "id": "bbc05f46",
   "metadata": {},
   "outputs": [],
   "source": [
    "a\tappend: it moves the cursor one position to the right before switching to insert mode\n",
    "i\tinsert\n",
    "o\tinsert a blank line under the current cursor position and move the cursor to that line."
   ]
  },
  {
   "cell_type": "code",
   "execution_count": null,
   "id": "74b3769f",
   "metadata": {},
   "outputs": [],
   "source": [
    "Vim Command\tDescription\n",
    "h\tmove the cursor one character to the left.\n",
    "j\tmove the cursor down one line.\n",
    "k\tmove the cursor up one line.\n",
    "l\tmove the cursor one character to the right.\n",
    "0\tmove the cursor to the beginning of the line.\n",
    "$\tmove the cursor to the end of the line.\n",
    "w\tmove forward one word.\n",
    "b\tmove backward one word.\n",
    "G\tmove to the end of the file.\n",
    "gg\tmove to the beginning of the file."
   ]
  },
  {
   "cell_type": "code",
   "execution_count": null,
   "id": "7d326dba",
   "metadata": {},
   "outputs": [],
   "source": [
    "Basic operations:"
   ]
  },
  {
   "cell_type": "raw",
   "id": "5d938681",
   "metadata": {},
   "source": [
    "Vim Command\tDescription\n",
    "ndd\tdelete n lines starting from the current cursor position.\n",
    "ndw\tdelete n words at the right side of the cursor.\n",
    "x\tdelete the character on which the cursor is positioned\n",
    ":n\tmove to line n of the file.\n",
    "u\tundo the last operation.\n",
    "Ctrl-r\tredo the last undo.\n",
    ":w\tsave (write) the file\n",
    ":q\texit the editor.\n",
    ":q!\tforce the exit when you want to quit a file containing unsaved changes.\n",
    ":wq\tsave and exit\n",
    ":w newfile\twill save the text to newfile.\n",
    ":wq!\toverride read-only permission (if you have the permission to override permissions, for instance when you are using the root account.\n",
    ":recover\twill recover a file after an unexpected interruption."
   ]
  },
  {
   "cell_type": "code",
   "execution_count": null,
   "id": "588fab99",
   "metadata": {},
   "outputs": [],
   "source": [
    "Searching And Replacing:"
   ]
  },
  {
   "cell_type": "code",
   "execution_count": null,
   "id": "eba3f49b",
   "metadata": {},
   "outputs": [],
   "source": [
    "Vim Command\tDescription\n",
    "/text\tsearch the text in the file and position the cursor on the first match below its position.\n",
    "n\tmove the cursor to the next instance of the text from the last search. This will wrap to the beginning of the document.\n",
    "N\tmove the cursor to the previous instance of the text from the last search.\n",
    "?text\tsearch for text in the document, going backward.\n",
    ":%s/text/replacement text/g\tsearch through the entire document for text and replace it with the replacement text.\n",
    ":%s/text/replacement text/gc\tsearch through the entire document and confirm before replacing text."
   ]
  },
  {
   "cell_type": "code",
   "execution_count": null,
   "id": "3a48c7f4",
   "metadata": {},
   "outputs": [],
   "source": [
    "Copying And Pasting:"
   ]
  },
  {
   "cell_type": "code",
   "execution_count": null,
   "id": "6c86d7ef",
   "metadata": {},
   "outputs": [],
   "source": [
    "Vim Command\tDescription\n",
    "v\thighlight one character at a time.\n",
    "V\thighlight one line at a time.\n",
    "Ctrl-v\thighlight by columns.\n",
    "y\tyank text into the copy buffer.\n",
    "p\tpaste text after the current line.\n",
    "P\tpaste text on the current line.\n",
    "np\tpaste it n times."
   ]
  },
  {
   "cell_type": "markdown",
   "id": "534d3e34",
   "metadata": {},
   "source": [
    "# Nano Editor"
   ]
  },
  {
   "cell_type": "code",
   "execution_count": null,
   "id": "738c34c2",
   "metadata": {},
   "outputs": [],
   "source": [
    "Features:\n",
    "    undo/redo,\n",
    "    syntax coloring,\n",
    "    interactive search and replace,\n",
    "    auto-intendation,\n",
    "    line numbers,\n",
    "    word completion,\n",
    "    file locking, backup files,\n",
    "    internationalization support"
   ]
  },
  {
   "cell_type": "code",
   "execution_count": null,
   "id": "0610657a",
   "metadata": {},
   "outputs": [],
   "source": [
    "To open an existing file or to create a new file:\n",
    "    nano filename"
   ]
  },
  {
   "cell_type": "markdown",
   "id": "0af9956d",
   "metadata": {},
   "source": [
    "Editing Files:\n",
    "Unlike vi, nano is a modeless editor, which means that you can start typing and editing the text immediately after opening the file."
   ]
  },
  {
   "cell_type": "code",
   "execution_count": null,
   "id": "26004d59",
   "metadata": {},
   "outputs": [],
   "source": [
    "The caret symbol (^) represents the Ctrl key."
   ]
  },
  {
   "cell_type": "code",
   "execution_count": null,
   "id": "6673dcd9",
   "metadata": {},
   "outputs": [],
   "source": [
    "The letter M represents the Alt key."
   ]
  },
  {
   "cell_type": "code",
   "execution_count": null,
   "id": "55069631",
   "metadata": {},
   "outputs": [],
   "source": [
    "Shortcut List"
   ]
  },
  {
   "cell_type": "code",
   "execution_count": null,
   "id": "e4f08025",
   "metadata": {},
   "outputs": [],
   "source": [
    "Command\tMeaning\tDescription\n",
    "Ctrl G\tGet Help\tdisplay a complete list of commands and associated hotkeys.\n",
    "Ctrl X\tExit\tClose the program. You'll be prompted to save the current buffer or to exit without saving.\n",
    "Ctrl O\tWrite Out\tSave the current buffer to the filesystem.\n",
    "Ctrl R\tRead File\tOpen a file from the filesystem.\n",
    "Ctrl W\tWhere Is\tSearch for a text string.\n",
    "Ctrl \\\tReplace\tReplace one text string for another.\n",
    "Ctrl K\tCut Text\tRemove the current line of text.\n",
    "Ctrl U\tUncut Text\tUncut from the cutbuffer into the current line\n",
    "Ctrl J\tJustify\tJustify the current paragraph\n",
    "Ctrl T\tTo Spell\tSpell-check the current buffer.\n",
    "Ctrl C\tCur Pos\tDisplay the position of the cursor relative to the contents of the buffer as a whole.\n",
    "Alt U\tUndo\tUndo the last operation\n",
    "Alt E\tRedo\tRedo the last undone operation\n",
    "Alt M\tMark Text\tMark text starting from the cursor position\n",
    "Alt 6\tCopy Text\tCopy the current line and store it in the cutbuffer"
   ]
  },
  {
   "cell_type": "code",
   "execution_count": null,
   "id": "5c3a98c9",
   "metadata": {},
   "outputs": [],
   "source": [
    "Get Help:\n",
    "    Ctrl G or ^G"
   ]
  },
  {
   "cell_type": "raw",
   "id": "d4424649",
   "metadata": {},
   "source": [
    "Exit:\n",
    "Ctrl X"
   ]
  },
  {
   "cell_type": "code",
   "execution_count": null,
   "id": "538a2fe5",
   "metadata": {},
   "outputs": [],
   "source": [
    "Write out:\n",
    "    ^O"
   ]
  },
  {
   "cell_type": "code",
   "execution_count": null,
   "id": "eb475fc2",
   "metadata": {},
   "outputs": [],
   "source": [
    "Read file:\n",
    "    ^R"
   ]
  },
  {
   "cell_type": "raw",
   "id": "3817a47c",
   "metadata": {},
   "source": [
    "Where ls:\n",
    "^W"
   ]
  },
  {
   "cell_type": "code",
   "execution_count": null,
   "id": "036a1aa1",
   "metadata": {},
   "outputs": [],
   "source": [
    "Replace:\n",
    "    ^\\"
   ]
  },
  {
   "cell_type": "code",
   "execution_count": null,
   "id": "098f3b8d",
   "metadata": {},
   "outputs": [],
   "source": [
    "Cut text:\n",
    "    ^K"
   ]
  },
  {
   "cell_type": "code",
   "execution_count": null,
   "id": "c967b02d",
   "metadata": {},
   "outputs": [],
   "source": [
    "Uncut text:\n",
    "    ^U"
   ]
  },
  {
   "cell_type": "code",
   "execution_count": null,
   "id": "12b747a5",
   "metadata": {},
   "outputs": [],
   "source": [
    "Justify:\n",
    "    ^J"
   ]
  },
  {
   "cell_type": "code",
   "execution_count": null,
   "id": "c51d2993",
   "metadata": {},
   "outputs": [],
   "source": [
    "to spell:\n",
    "    ^T"
   ]
  },
  {
   "cell_type": "code",
   "execution_count": null,
   "id": "39d2635c",
   "metadata": {},
   "outputs": [],
   "source": [
    "Cur Pos:\n",
    "    ^C"
   ]
  },
  {
   "cell_type": "code",
   "execution_count": null,
   "id": "459c243d",
   "metadata": {},
   "outputs": [],
   "source": [
    "Undo:\n",
    "    Alt U"
   ]
  },
  {
   "cell_type": "code",
   "execution_count": null,
   "id": "f62043ed",
   "metadata": {},
   "outputs": [],
   "source": [
    "Redo:\n",
    "    Al"
   ]
  },
  {
   "cell_type": "code",
   "execution_count": null,
   "id": "4d1716b6",
   "metadata": {},
   "outputs": [],
   "source": []
  },
  {
   "cell_type": "code",
   "execution_count": null,
   "id": "4ab8b151",
   "metadata": {},
   "outputs": [],
   "source": []
  },
  {
   "cell_type": "code",
   "execution_count": null,
   "id": "9748f18c",
   "metadata": {},
   "outputs": [],
   "source": []
  },
  {
   "cell_type": "code",
   "execution_count": null,
   "id": "91a5c994",
   "metadata": {},
   "outputs": [],
   "source": []
  },
  {
   "cell_type": "code",
   "execution_count": null,
   "id": "3fc5b18e",
   "metadata": {},
   "outputs": [],
   "source": []
  },
  {
   "cell_type": "code",
   "execution_count": null,
   "id": "7b6e7246",
   "metadata": {},
   "outputs": [],
   "source": []
  },
  {
   "cell_type": "code",
   "execution_count": null,
   "id": "d36f9557",
   "metadata": {},
   "outputs": [],
   "source": []
  }
 ],
 "metadata": {
  "kernelspec": {
   "display_name": "Python 3",
   "language": "python",
   "name": "python3"
  },
  "language_info": {
   "codemirror_mode": {
    "name": "ipython",
    "version": 3
   },
   "file_extension": ".py",
   "mimetype": "text/x-python",
   "name": "python",
   "nbconvert_exporter": "python",
   "pygments_lexer": "ipython3",
   "version": "3.8.8"
  }
 },
 "nbformat": 4,
 "nbformat_minor": 5
}
