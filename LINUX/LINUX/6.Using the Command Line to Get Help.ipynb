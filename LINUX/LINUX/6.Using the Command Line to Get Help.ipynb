{
 "cells": [
  {
   "cell_type": "markdown",
   "id": "b38bfe4c",
   "metadata": {},
   "source": [
    "# Man Pages"
   ]
  },
  {
   "cell_type": "raw",
   "id": "3dd6b038",
   "metadata": {},
   "source": [
    "A man page (short for manual page) is a form of software documentation usually found on a Unix or Unix-like operating system.\n",
    "\n",
    "Man pages are the traditional package documentation for application usage. What that means is that they're typically installed when you install a package. So if we install a package to do some task, the man page for that package will typically be installed at the same time. "
   ]
  },
  {
   "cell_type": "markdown",
   "id": "aeb7503a",
   "metadata": {},
   "source": [
    "Usage:\n",
    "man <command>\n",
    "\n",
    "man ls"
   ]
  },
  {
   "cell_type": "markdown",
   "id": "d294bf18",
   "metadata": {},
   "source": [
    "# Info Pages"
   ]
  },
  {
   "cell_type": "raw",
   "id": "7e72edda",
   "metadata": {},
   "source": [
    "Info pages are additional documentation with more robust capability in detail. Info Page normally provides more detailed information about a command than its respective man page. Additionally, Info uses a structure for linking these pages together, and they may be assembled into a larger collection."
   ]
  },
  {
   "cell_type": "code",
   "execution_count": null,
   "id": "09680ba9",
   "metadata": {},
   "outputs": [],
   "source": [
    "Usage:\n",
    "info <command>\n",
    "\n",
    "info echo"
   ]
  },
  {
   "cell_type": "raw",
   "id": "c5cc84ab",
   "metadata": {},
   "source": [
    "******\n",
    "The main difference between Man and Info is the amount of content that they have; Info contains a whole lot more than Man does.\n",
    "*********"
   ]
  }
 ],
 "metadata": {
  "kernelspec": {
   "display_name": "Python 3",
   "language": "python",
   "name": "python3"
  },
  "language_info": {
   "codemirror_mode": {
    "name": "ipython",
    "version": 3
   },
   "file_extension": ".py",
   "mimetype": "text/x-python",
   "name": "python",
   "nbconvert_exporter": "python",
   "pygments_lexer": "ipython3",
   "version": "3.8.8"
  }
 },
 "nbformat": 4,
 "nbformat_minor": 5
}
