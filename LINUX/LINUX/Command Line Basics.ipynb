{
 "cells": [
  {
   "cell_type": "markdown",
   "id": "6b34563e",
   "metadata": {},
   "source": [
    "# Command Promt\n",
    "User name@Host Name:Current Directory($ = normal user, # = privilage user)"
   ]
  },
  {
   "cell_type": "markdown",
   "id": "6f2273f9",
   "metadata": {},
   "source": [
    "# Basic Shell Commands"
   ]
  },
  {
   "cell_type": "code",
   "execution_count": null,
   "id": "1b21f03e",
   "metadata": {},
   "outputs": [],
   "source": [
    "show current path:\n",
    "    pwd"
   ]
  },
  {
   "cell_type": "code",
   "execution_count": null,
   "id": "3815a210",
   "metadata": {},
   "outputs": [],
   "source": [
    "list directory contents:\n",
    "    ls"
   ]
  },
  {
   "cell_type": "code",
   "execution_count": null,
   "id": "584130f7",
   "metadata": {},
   "outputs": [],
   "source": [
    "list directory contents with details:\n",
    "    ls -l"
   ]
  },
  {
   "cell_type": "code",
   "execution_count": null,
   "id": "94c19c38",
   "metadata": {},
   "outputs": [],
   "source": [
    "lists all the contents with hidden ones:\n",
    "    ls -al"
   ]
  },
  {
   "cell_type": "code",
   "execution_count": null,
   "id": "73e49f24",
   "metadata": {},
   "outputs": [],
   "source": [
    "formatted list including more data:\n",
    "    ls -lh"
   ]
  },
  {
   "cell_type": "code",
   "execution_count": null,
   "id": "db571b3b",
   "metadata": {},
   "outputs": [],
   "source": [
    "lists sorted by date:\n",
    "    ls -t"
   ]
  },
  {
   "cell_type": "code",
   "execution_count": null,
   "id": "ed4bca01",
   "metadata": {},
   "outputs": [],
   "source": [
    "change current directory:\n",
    "    cd [dir]"
   ]
  },
  {
   "cell_type": "code",
   "execution_count": null,
   "id": "6c24f3f4",
   "metadata": {},
   "outputs": [],
   "source": [
    "change current directory one level up:\n",
    "    cd .."
   ]
  },
  {
   "cell_type": "code",
   "execution_count": null,
   "id": "b0d02e44",
   "metadata": {},
   "outputs": [],
   "source": [
    "change current directory to the root directory:\n",
    "    cd/"
   ]
  },
  {
   "cell_type": "code",
   "execution_count": null,
   "id": "225d05cb",
   "metadata": {},
   "outputs": [],
   "source": [
    "change current directory to the home directory:\n",
    "    cd ~ or cd"
   ]
  },
  {
   "cell_type": "code",
   "execution_count": null,
   "id": "48c0a17a",
   "metadata": {},
   "outputs": [],
   "source": [
    "create a new directory:\n",
    "    mkdir dir_name"
   ]
  },
  {
   "cell_type": "code",
   "execution_count": null,
   "id": "48190f70",
   "metadata": {},
   "outputs": [],
   "source": [
    "delete an empty directory:\n",
    "    rmdir"
   ]
  },
  {
   "cell_type": "code",
   "execution_count": null,
   "id": "6e935599",
   "metadata": {},
   "outputs": [],
   "source": [
    "create or update a file:\n",
    "    touch file"
   ]
  },
  {
   "cell_type": "code",
   "execution_count": null,
   "id": "31dad293",
   "metadata": {},
   "outputs": [],
   "source": [
    "delete a file:\n",
    "    rm file"
   ]
  },
  {
   "cell_type": "code",
   "execution_count": null,
   "id": "c7ceaabc",
   "metadata": {},
   "outputs": [],
   "source": [
    "force remove filE:\n",
    "    rm -f -file"
   ]
  },
  {
   "cell_type": "code",
   "execution_count": null,
   "id": "e1e75ee0",
   "metadata": {},
   "outputs": [],
   "source": [
    "delete directory dir and its files:\n",
    "    rm-r dir"
   ]
  },
  {
   "cell_type": "code",
   "execution_count": null,
   "id": "62f8629d",
   "metadata": {},
   "outputs": [],
   "source": [
    "copy a file to another location:\n",
    "    cp file1 file2"
   ]
  },
  {
   "cell_type": "code",
   "execution_count": null,
   "id": "73083fe2",
   "metadata": {},
   "outputs": [],
   "source": [
    "copy dir1 to dir2; creat dir2 if doesn't exist(copy files contained in directories):\n",
    "cp -r dir1 dir2"
   ]
  },
  {
   "cell_type": "code",
   "execution_count": null,
   "id": "8e20263d",
   "metadata": {},
   "outputs": [],
   "source": [
    "rename or move a file1 to file2 if file2 is an existing directory, moves file1 into directory file2:\n",
    "    mv file1 file2"
   ]
  },
  {
   "cell_type": "code",
   "execution_count": null,
   "id": "1af90b14",
   "metadata": {},
   "outputs": [],
   "source": [
    "print message to screen:\n",
    "    echo"
   ]
  },
  {
   "cell_type": "code",
   "execution_count": null,
   "id": "4bebf856",
   "metadata": {},
   "outputs": [],
   "source": [
    "print message to a file:\n",
    "    echo > [file]"
   ]
  },
  {
   "cell_type": "code",
   "execution_count": null,
   "id": "d7a20117",
   "metadata": {},
   "outputs": [],
   "source": [
    "show file contents:\n",
    "    cat"
   ]
  },
  {
   "cell_type": "code",
   "execution_count": null,
   "id": "820517e4",
   "metadata": {},
   "outputs": [],
   "source": [
    "places standart input into a file:\n",
    "    cat > file"
   ]
  },
  {
   "cell_type": "raw",
   "id": "6fbd2dac",
   "metadata": {},
   "source": [
    "merges file1 and file2 to into file3:\n",
    "    cat file1 file2 > file3"
   ]
  },
  {
   "cell_type": "code",
   "execution_count": null,
   "id": "bfe56c09",
   "metadata": {},
   "outputs": [],
   "source": [
    "concatenates all fasta files in the current directory:\n",
    "    cat *fasta > all.fasta"
   ]
  },
  {
   "cell_type": "code",
   "execution_count": null,
   "id": "4d113df9",
   "metadata": {},
   "outputs": [],
   "source": [
    "show the first 10 lines from the file contents:\n",
    "    head file"
   ]
  },
  {
   "cell_type": "code",
   "execution_count": null,
   "id": "24cfbad3",
   "metadata": {},
   "outputs": [],
   "source": [
    "prints the first 5 lines from a file:\n",
    "    head -n 5"
   ]
  },
  {
   "cell_type": "code",
   "execution_count": null,
   "id": "65a1be73",
   "metadata": {},
   "outputs": [],
   "source": [
    "show the last 10 lines from the file contents:\n",
    "    tail file "
   ]
  },
  {
   "cell_type": "code",
   "execution_count": null,
   "id": "fa91d616",
   "metadata": {},
   "outputs": [],
   "source": [
    "prints the last 5 lines from a file:\n",
    "    tail -n 5"
   ]
  },
  {
   "cell_type": "code",
   "execution_count": null,
   "id": "18fcd156",
   "metadata": {},
   "outputs": [],
   "source": [
    "output the contents of file as it grows, starting with the last lines:\n",
    "    tail -f file"
   ]
  },
  {
   "cell_type": "code",
   "execution_count": null,
   "id": "23739987",
   "metadata": {},
   "outputs": [],
   "source": [
    "current user:\n",
    "    whoami"
   ]
  },
  {
   "cell_type": "code",
   "execution_count": null,
   "id": "4ed971e7",
   "metadata": {},
   "outputs": [],
   "source": [
    "shows the system hostname:\n",
    "    hostname"
   ]
  },
  {
   "cell_type": "code",
   "execution_count": null,
   "id": "0f5c3619",
   "metadata": {},
   "outputs": [],
   "source": [
    "shows the IP address of the system hostname:\n",
    "    hostname -i"
   ]
  },
  {
   "cell_type": "code",
   "execution_count": null,
   "id": "5950dbad",
   "metadata": {},
   "outputs": [],
   "source": [
    "create symbolic link to a file:\n",
    "    ln -s file"
   ]
  },
  {
   "cell_type": "code",
   "execution_count": null,
   "id": "482a4717",
   "metadata": {},
   "outputs": [],
   "source": [
    "output the contents of s file:\n",
    "    more file"
   ]
  },
  {
   "cell_type": "code",
   "execution_count": null,
   "id": "ab043ee3",
   "metadata": {},
   "outputs": [],
   "source": [
    "view a file:\n",
    "    less file"
   ]
  },
  {
   "cell_type": "markdown",
   "id": "6b724ac6",
   "metadata": {},
   "source": [
    "# Case Sensitive"
   ]
  },
  {
   "cell_type": "code",
   "execution_count": null,
   "id": "92d94824",
   "metadata": {},
   "outputs": [],
   "source": [
    "touch newfile\n",
    "touch Newfile\n",
    "will create 2 different files"
   ]
  },
  {
   "cell_type": "markdown",
   "id": "573fac7a",
   "metadata": {},
   "source": [
    "# Globbing"
   ]
  },
  {
   "cell_type": "code",
   "execution_count": null,
   "id": "b0d8f7fa",
   "metadata": {},
   "outputs": [],
   "source": [
    "Match any single character:\n",
    "    ?"
   ]
  },
  {
   "cell_type": "code",
   "execution_count": null,
   "id": "e6a96225",
   "metadata": {},
   "outputs": [],
   "source": [
    "Match any number of characters:\n",
    "    *"
   ]
  },
  {
   "cell_type": "code",
   "execution_count": null,
   "id": "4c033cc4",
   "metadata": {},
   "outputs": [],
   "source": [
    "Match character from a range:\n",
    "    [] =bracket"
   ]
  },
  {
   "cell_type": "code",
   "execution_count": null,
   "id": "3b24ac90",
   "metadata": {},
   "outputs": [],
   "source": [
    "Used to match starting character:\n",
    "    ^ =caret"
   ]
  },
  {
   "cell_type": "code",
   "execution_count": null,
   "id": "95dd43c0",
   "metadata": {},
   "outputs": [],
   "source": [
    "use to match ending character:\n",
    "    $"
   ]
  },
  {
   "cell_type": "code",
   "execution_count": null,
   "id": "eb12125d",
   "metadata": {},
   "outputs": [],
   "source": [
    "used to match more than one pattern:\n",
    "    {} = curly brace"
   ]
  },
  {
   "cell_type": "code",
   "execution_count": null,
   "id": "5ce3a090",
   "metadata": {},
   "outputs": [],
   "source": [
    "used for applying more than one condition:\n",
    "    | = pipe"
   ]
  },
  {
   "cell_type": "markdown",
   "id": "2da8cf96",
   "metadata": {},
   "source": [
    "# Hidden files and directories:"
   ]
  },
  {
   "cell_type": "code",
   "execution_count": null,
   "id": "2e3aa4fa",
   "metadata": {},
   "outputs": [],
   "source": [
    "period(.):\n",
    "    .abc"
   ]
  },
  {
   "cell_type": "markdown",
   "id": "a857da84",
   "metadata": {},
   "source": [
    "# Man Pages = Manuel Pages"
   ]
  },
  {
   "cell_type": "code",
   "execution_count": null,
   "id": "d8198aa5",
   "metadata": {},
   "outputs": [],
   "source": [
    "man [command]"
   ]
  },
  {
   "cell_type": "code",
   "execution_count": null,
   "id": "63a4a6d5",
   "metadata": {},
   "outputs": [],
   "source": [
    "man ls"
   ]
  },
  {
   "cell_type": "markdown",
   "id": "3fd2068e",
   "metadata": {},
   "source": [
    "# Info Pages"
   ]
  },
  {
   "cell_type": "code",
   "execution_count": null,
   "id": "bc677901",
   "metadata": {},
   "outputs": [],
   "source": [
    "info [command]"
   ]
  },
  {
   "cell_type": "markdown",
   "id": "559bc4fb",
   "metadata": {},
   "source": [
    "# Info Pages"
   ]
  },
  {
   "cell_type": "code",
   "execution_count": null,
   "id": "58695d07",
   "metadata": {},
   "outputs": [],
   "source": [
    "info echo"
   ]
  }
 ],
 "metadata": {
  "kernelspec": {
   "display_name": "Python 3",
   "language": "python",
   "name": "python3"
  },
  "language_info": {
   "codemirror_mode": {
    "name": "ipython",
    "version": 3
   },
   "file_extension": ".py",
   "mimetype": "text/x-python",
   "name": "python",
   "nbconvert_exporter": "python",
   "pygments_lexer": "ipython3",
   "version": "3.8.8"
  }
 },
 "nbformat": 4,
 "nbformat_minor": 5
}
