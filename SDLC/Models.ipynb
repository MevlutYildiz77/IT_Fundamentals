{
 "cells": [
  {
   "cell_type": "markdown",
   "id": "07d23339",
   "metadata": {},
   "source": [
    "# 1. Waterfall Model"
   ]
  },
  {
   "cell_type": "markdown",
   "id": "8abea2ec",
   "metadata": {},
   "source": [
    "The Waterfall Model is the ****earliest approach*** and a ***widely accepted*** SDLC model that was used for software development "
   ]
  },
  {
   "cell_type": "markdown",
   "id": "c146d32c",
   "metadata": {},
   "source": [
    "The model formed the transition between the phases of the software development process like a waterfall pouring."
   ]
  },
  {
   "cell_type": "markdown",
   "id": "3a0bb4ac",
   "metadata": {},
   "source": [
    "It illustrates the process of software development in a **linear sequential flow.This means that each phase must be completed before the beginning of the next phase.**"
   ]
  },
  {
   "cell_type": "markdown",
   "id": "e3aac33f",
   "metadata": {},
   "source": [
    "Each phase finds what the previous phase produces at the starting point.\n",
    "This model is **very simple to understand and use.**\n",
    "There is no overlapping in the phases."
   ]
  },
  {
   "cell_type": "markdown",
   "id": "acd494c9",
   "metadata": {},
   "source": [
    "# Design"
   ]
  },
  {
   "cell_type": "markdown",
   "id": "223f9a92",
   "metadata": {},
   "source": [
    "the entire software development process is ***divided into separate phases.*** Usually, In this model, **the result of one phase acts sequentially as the input for the next phase.**\n",
    "\n"
   ]
  },
  {
   "cell_type": "markdown",
   "id": "c26f12c7",
   "metadata": {},
   "source": [
    "**Requirement Gathering and analysis* − During this process, all possible system requirements to be created are collected and recorded in a requirement specification document.\n",
    "**System Design* − In this phase, the requirements from the first phase will be reviewed, and the device design will be prepared. This system design helps determine the specifications of the hardware and system and helps define the overall system architecture.\n",
    "**Implementation* −  The system is first developed with inputs from the system design into small programs called units, which are integrated into the next phase. Each unit is developed and tested for their functionality, known as Unit Testing.\n",
    "**Integration and Testing** − After testing each unit, all the units built during the implementation process are incorporated into a system. Any flaws and deficiencies are checked for the post-integration of the entire system.\n",
    "**Deployment of system* − Once testing is done, the product is deployed in the customer environment or released into the market.\n",
    "*Maintenance* − Some issues arise in the client environment. Patches are released to fix those issues. Some improved versions are released to enhance the product. Maintenance is done in the consumer environment to make such improvements."
   ]
  },
  {
   "cell_type": "markdown",
   "id": "4dcbc7b5",
   "metadata": {},
   "source": [
    "Which of the following gives the **correct order of the sequential phases in the Waterfall model?**\n",
    "\n",
    "**(1) Requirement Gathering and Analysis\n",
    "\n",
    "**(2) System Design\n",
    "\n",
    "**(3) Implementation\n",
    "\n",
    "**(4) Integration and Testing\n",
    "\n",
    "**(5) Deployment of System\n",
    "\n",
    "**(6) Maintenance***\n",
    "\n",
    "Select one:1 - 2 - 3 - 4 - 5 - 6 "
   ]
  },
  {
   "cell_type": "markdown",
   "id": "98f7b156",
   "metadata": {},
   "source": [
    "# Application"
   ]
  },
  {
   "cell_type": "markdown",
   "id": "1ed00ed8",
   "metadata": {},
   "source": [
    "Many situations where the most effective use of the Waterfall model are;\n",
    "\n",
    "**The requirements are documented very well.\n",
    "***The definition of a product is stable.\n",
    "Technology is comprehensible.\n",
    "***Requirements are not ambiguous.\n",
    "Ample resources are available with the required expertise to support the product.\n",
    "***The project is short."
   ]
  },
  {
   "cell_type": "markdown",
   "id": "43fcafa9",
   "metadata": {},
   "source": [
    "# Advantages"
   ]
  },
  {
   "cell_type": "markdown",
   "id": "4ecf32d1",
   "metadata": {},
   "source": [
    "It allows control and departmentalization.\n",
    "A schedule may be set with deadlines for each stage of development, and a product may proceed one by one through phases of the development process model.\n",
    "Every development phase proceeds in strict order.\n",
    "Easy and simple to use and understand.\n",
    "Easy to manage because of model rigidity. There are specific deliverables and a review process for each phase.\n",
    "Phases are processed one at a time and completed.\n",
    "Works well for ***smaller*** projects where requirements are very well understood.\n",
    "Phases clearly defined.\n",
    "The coding and testing steps are very short, as the requirements and design are clearly defined during the analysis and design phases.\n",
    "The number of errors during the test phase is very small.\n",
    "Tasks are easy to arrange.\n",
    "There is good documentation of the process and results."
   ]
  },
  {
   "cell_type": "markdown",
   "id": "815f8aae",
   "metadata": {},
   "source": [
    "# Disadvantages"
   ]
  },
  {
   "cell_type": "markdown",
   "id": "aefd8899",
   "metadata": {},
   "source": [
    "***It does not allow a great deal of reflection or revision.***\n",
    "Once an application is in the phase of testing, it is very hard to go back and alter something that was not well-documented.\n",
    "***No working software is produced until late during the life cycle.***\n",
    "There is a high amount of risk and uncertainty.\n",
    "The time-loss due to the upper phase errors is quite high.\n",
    "***It is not a good model for complex and object-oriented projects.***\n",
    "It is a poor model for long and ongoing projects.\n",
    "It is not suitable for the projects where requirements are at a moderate to high risk of changing. So, risk and uncertainty are high with this process model.\n",
    "The progress in phases can be difficult to measure.\n",
    "The product has to wait until the end of all the phases.\n",
    "***It can not adapt to changing requirements.***\n",
    "Scope adjustment over the life cycle can end a project."
   ]
  },
  {
   "cell_type": "markdown",
   "id": "cd1f00b5",
   "metadata": {},
   "source": [
    "# 2. Iterative Model"
   ]
  },
  {
   "cell_type": "markdown",
   "id": "e38ad114",
   "metadata": {},
   "source": [
    " the process starts with a simple implementation of a subset of the software requirements. ***At each iteration, design modifications are made and new functional capabilities are added. At the end of every iteration, a version of the software is produced.***"
   ]
  },
  {
   "cell_type": "markdown",
   "id": "33495123",
   "metadata": {},
   "source": [
    "Errors, deficiencies, and disturbances that occur later are resolved. The errors caused by the previous step are removed.\n",
    "\n",
    "Iterations may involve changes to features developed in earlier iterations, as well as changes in project scope.\n",
    "\n",
    "Every iteration delivers working software until the final software is delivered or development stops."
   ]
  },
  {
   "cell_type": "markdown",
   "id": "48132656",
   "metadata": {},
   "source": [
    "# Design"
   ]
  },
  {
   "cell_type": "markdown",
   "id": "96829f63",
   "metadata": {},
   "source": [
    "In the **incremental model**, ***the entire requirement is divided into various builds.*** During each iteration, the development module goes through the requirements, design, implementation, and testing phases. Each subsequent release of the module adds function to the previous release. ***The process continues until the complete system is ready as per the requirement.***"
   ]
  },
  {
   "cell_type": "markdown",
   "id": "2c21984f",
   "metadata": {},
   "source": [
    "The key to the successful use of an iterative life cycle of software development is to rigorously validate requirements and test each version of the software against those requirements within each model cycle.\n",
    "\n",
    "Tests must be repeated and extended to verify each version of the software as the software evolves through successive cycles."
   ]
  },
  {
   "cell_type": "code",
   "execution_count": null,
   "id": "8c096b1a",
   "metadata": {},
   "outputs": [],
   "source": [
    "Which of the following are the features of the Iterative Model?\n",
    "\n",
    "Select one or more:\n",
    "Developing a system in smaller portions at a time. \n",
    "The entire requirement is divided into various builds. \n",
    "Developing a system through repeated cycles. \n",
    "The process continues until the complete system is ready as per the requirement. "
   ]
  },
  {
   "cell_type": "markdown",
   "id": "a0f67a0d",
   "metadata": {},
   "source": [
    "# Application"
   ]
  },
  {
   "cell_type": "markdown",
   "id": "696887b3",
   "metadata": {},
   "source": [
    "This model is most often used in the following scenarios;\n",
    "\n",
    "***The requirements of the entire system are clearly defined and understood.***\n",
    "Specific requirements need to be defined; however, some functionalities or required improvements may evolve with time.\n",
    "***There is a time for market constraint.***\n",
    "The development team is using ***new technology** and learning while working on the project.\n",
    "Some certain high-risk features and goals may change in the future."
   ]
  },
  {
   "cell_type": "markdown",
   "id": "237ff87a",
   "metadata": {},
   "source": [
    "# Advantages"
   ]
  },
  {
   "cell_type": "markdown",
   "id": "f539efda",
   "metadata": {},
   "source": [
    "***It allows the team to find functional or design related flaws as early as possible.***\n",
    "***Parallel development can be planned.***\n",
    "***It is best suited for agile organizations.***\n",
    "Implemented during the earlier stages of the development process.\n",
    "***It supports changing requirements.***\n",
    "It spends less time on documenting and more time on designing."
   ]
  },
  {
   "cell_type": "markdown",
   "id": "08561a48",
   "metadata": {},
   "source": [
    "# Disadvantages"
   ]
  },
  {
   "cell_type": "markdown",
   "id": "6af836fd",
   "metadata": {},
   "source": [
    "While change costs are lower, they are not very suitable for changing requirements.\n",
    "***It may need more management attention.***\n",
    "***It is not suitable for **smaller** projects.***\n",
    "Defining increments may require a complete system definition.\n",
    "***Project success and progress depend heavily upon the process of risk analysis.***\n",
    "To implement iterative model more resources may be required."
   ]
  },
  {
   "cell_type": "markdown",
   "id": "9f711b9b",
   "metadata": {},
   "source": [
    "# 3. Spiral Model"
   ]
  },
  {
   "cell_type": "markdown",
   "id": "47f72e71",
   "metadata": {},
   "source": [
    "The spiral model is ***a risk-driven model*** of software process development.\n",
    "\n",
    "The spiral model, ***based on a given project's unique risk patterns, guides a team to follow elements of one or more process models, such as incremental or waterfall.***\n",
    "\n",
    "This model looks like a spiral with a lot of loops in its diagrammatic representation. ***The exact number of spiral loops is uncertain and may vary from project to project.*** Every spiral loop is called a phase of the software development process. Depending on the project risks, the exact number of phases required to develop the product can be varied by the project manager.\n",
    "\n",
    "The project manager has an important role to play in developing a product using the spiral model because the project manager determines the number of phases dynamically."
   ]
  },
  {
   "cell_type": "markdown",
   "id": "ecacd5e0",
   "metadata": {},
   "source": [
    "***Objectives determination and identify alternative solutions***\n",
    "\n",
    "Requirements are obtained from the clients.\n",
    "At the beginning of every phase, the goals are defined, elaborated and analyzed.\n",
    "Then alternative solutions possible for the phase are proposed.\n",
    "***Identify and resolve Risks***\n",
    "\n",
    "All the possible solutions are evaluated to select the best possible solution.\n",
    "The risks associated with that solution are identified.\n",
    "The risks are resolved using the best possible strategy.\n",
    "At the end of this quadrant, Prototype is built for the best possible solution.\n",
    "***Develop next version of the Product***\n",
    "\n",
    "The identified features are developed and verified through testing.\n",
    "\n",
    "At the end of this quadrant, the next version of the software is available.\n",
    "\n",
    "***Review and plan for the next Phase***\n",
    "\n",
    "Customers evaluate the so far developed version of the software.\n",
    "In the end, planning for the next phase is started."
   ]
  },
  {
   "cell_type": "markdown",
   "id": "20582e43",
   "metadata": {},
   "source": [
    "# Application"
   ]
  },
  {
   "cell_type": "markdown",
   "id": "7ddb7136",
   "metadata": {},
   "source": [
    "The Spiral Model is widely used in the software industry as it is in sync with the natural development process of any product.\n",
    "\n",
    "The typical uses of a Spiral Model are as follows;\n",
    "\n",
    "***When there is a **constraint on the budget** and the **risk evaluation is important.***\n",
    "***It is appropriate for projects which are of medium to high risk.***\n",
    "***When there is a long-term project commitment as the criteria change with time due to potential changes to economic goals.\n",
    "It is appropriate when the customer is not sure what is usually the case for their requirements.\n",
    "***Requirements are **complex****** and need evaluation to get clarity.\n",
    "The new product line which should be released in phases to get enough customer feedback.\n",
    "Significant changes are expected in the product during the development cycle."
   ]
  },
  {
   "cell_type": "markdown",
   "id": "ebe5a610",
   "metadata": {},
   "source": [
    "# Advantages"
   ]
  },
  {
   "cell_type": "markdown",
   "id": "16645a26",
   "metadata": {},
   "source": [
    "***It is one of the best development models*** to follow because of the risk analysis and risk handling at every phase.\n",
    "This model can help to change requirements easily.\n",
    "***It allows extensive use of prototypes.***\n",
    "***Requirements can be more reliably and accurately identified.***\n",
    "***It allows users to see the system early.***\n",
    "Development can be divided into smaller components, and the risky components can be developed earlier, which helps to improve risk management."
   ]
  },
  {
   "cell_type": "markdown",
   "id": "58dba293",
   "metadata": {},
   "source": [
    "# Disadvantages"
   ]
  },
  {
   "cell_type": "markdown",
   "id": "94c4c87e",
   "metadata": {},
   "source": [
    "***It is much more complex to manage than other SDLC models.***\n",
    "***As the number of phases is unknown at the start of the project, so time estimation is very difficult.***\n",
    "***It is not suitable for small or low-risk projects***\n",
    "It could be expensive for small projects.\n",
    "***Spiral can go on indefinitely.***\n",
    "***Due to the excess of intermediate phases, it requires a lot of documentation.***"
   ]
  },
  {
   "cell_type": "markdown",
   "id": "0fcf25d2",
   "metadata": {},
   "source": [
    "# 4.V-Model"
   ]
  },
  {
   "cell_type": "markdown",
   "id": "02c34413",
   "metadata": {},
   "source": [
    "The V-model is a SDLC model where the execution of processes happens in a sequential manner in a V-shape. ***It is also known as Verification and Validation model.***\n",
    "\n",
    "The V-Model is an ***extension of the waterfall model*** and ****is based on the association of a testing phase for each corresponding development stage.****\n",
    "\n",
    "***The next phase starts only after the completion of the previous phase.***"
   ]
  },
  {
   "cell_type": "markdown",
   "id": "70e098b1",
   "metadata": {},
   "source": [
    "# Design"
   ]
  },
  {
   "cell_type": "markdown",
   "id": "02f6e592",
   "metadata": {},
   "source": [
    "***The corresponding testing phase of the development phase is planned in parallel.***\n",
    "\n",
    "***There are Verification phases on one side of the ‘V’ and Validation phases on the other side.***\n",
    "\n",
    "***The V-Model's two sides are joined by the **Coding Phase.** "
   ]
  },
  {
   "cell_type": "markdown",
   "id": "b0bab51b",
   "metadata": {},
   "source": [
    "# Verification Phases"
   ]
  },
  {
   "cell_type": "markdown",
   "id": "3370a477",
   "metadata": {},
   "source": [
    "Verification phases in the V-Model are as follows;\n",
    "\n",
    "***1.Requirement Analysis*** -\n",
    "\n",
    "This phase is also known as the Requirement Gathering phase.\n",
    "This is the first phase that involves detailed communication with the customer to understand their requirements and expectations.\n",
    "***2.System Design*** -\n",
    "\n",
    "This phase contains the system design and the complete hardware and communication setup.\n",
    "***3.Architectural Design*** -\n",
    "\n",
    "Architectural specifications are understood and designed in this phase.\n",
    "The system design is further broken down into modules that take on various functionalities. This is also referred to as High-Level Design (HLD).\n",
    "There is a clear understanding of the data transfer and connectivity between the internal modules and the outside world (other systems).\n",
    "***4.Module Design*** -\n",
    "\n",
    "In this phase, the system breaks down into small modules.\n",
    "The detailed design of modules is specified, also known as Low-Level Design (LLD).\n",
    "The design is compatible with the other modules in the system architecture and the other external systems.\n",
    "***5.Coding Phase*** -\n",
    "\n",
    "In this phase, the actual coding of the system modules designed in the design phase is taken up.\n",
    "The best suitable programming language is decided based on the system and architectural requirements.\n",
    "The coding is done according to the coding guidelines and standards.\n",
    "The code goes through numerous code reviews and is optimized for best performance before the final build is checked into the repository."
   ]
  },
  {
   "cell_type": "markdown",
   "id": "ee81deba",
   "metadata": {},
   "source": [
    "# Validation Phases"
   ]
  },
  {
   "cell_type": "markdown",
   "id": "197275e9",
   "metadata": {},
   "source": [
    "Validation phases in the V-Model are as follows;\n",
    "\n",
    "***1.Unit Testing*** -\n",
    "\n",
    "The unit test is designed in the module design phase.\n",
    "It is executed to eliminate bugs at an early stage, though all defects cannot be uncovered by unit testing.\n",
    "***2.Integration Testing*** -\n",
    "\n",
    "Integration testing is associated with the architectural design phase.\n",
    "Integration tests are performed to test the coexistence and communication of the internal modules within the system.\n",
    "***3.System Testing*** -\n",
    "\n",
    "System testing is directly associated with the system design phase.\n",
    "System tests check the entire functionality of the system and the communication of the system under development with external systems.\n",
    "During this system test execution, most software and hardware compatibility issues can be uncovered.\n",
    "***4.Acceptance Testing*** -\n",
    "\n",
    "Acceptance testing is associated with the requirement analysis phase.\n",
    "It involves testing the product in the user environment.\n",
    "It uncovers the compatibility issues with the other systems available in the user environment.\n",
    "It also finds the non-functional issues in the actual user environment, such as load and performance defects."
   ]
  },
  {
   "cell_type": "markdown",
   "id": "df8b499a",
   "metadata": {},
   "source": [
    "# Application"
   ]
  },
  {
   "cell_type": "markdown",
   "id": "ccfaba09",
   "metadata": {},
   "source": [
    "This model is ***used in the medical development field.***\n",
    "\n",
    "The typical uses of a V-Model are as follows;\n",
    "\n",
    "***The requirements are documented clearly.***\n",
    "***The requirements are well defined.***\n",
    "***Requirements are not ambiguous.***\n",
    "The definition of a product is stable.\n",
    "***Technology is **not** dynamic.***\n",
    "It is well understood by the project team.\n",
    "***The project is **short.** "
   ]
  },
  {
   "cell_type": "markdown",
   "id": "b16da5e8",
   "metadata": {},
   "source": [
    "# Advantages"
   ]
  },
  {
   "cell_type": "markdown",
   "id": "b6b3b7b9",
   "metadata": {},
   "source": [
    "***It is very easy and simple to understand and apply.***\n",
    "***It is easy to manage due to the rigidity of the model.***\n",
    "***It is a highly-disciplined model.***\n",
    "Phases are completed one at a time.\n",
    "It works well for smaller projects where requirements are very well understood.\n",
    "Every phase has specific deliverables and a review process."
   ]
  },
  {
   "cell_type": "markdown",
   "id": "797e3361",
   "metadata": {},
   "source": [
    "# Disadvantages"
   ]
  },
  {
   "cell_type": "markdown",
   "id": "ec44a371",
   "metadata": {},
   "source": [
    "***It is not flexible to changes.***\n",
    "***There is a high amount of risk and uncertainty.***\n",
    "***It is not a good model for complex and object-oriented projects.***\n",
    "***It is a poor model for long and ongoing projects.***\n",
    "It is not suitable for the projects where requirements are at a moderate to high risk of changing.\n",
    "When an application is in the testing stage, it is difficult to go back and change functionality.\n",
    "No working software is produced until late during the life cycle."
   ]
  },
  {
   "cell_type": "markdown",
   "id": "01d5c30a",
   "metadata": {},
   "source": [
    "# 5.RAD Model"
   ]
  },
  {
   "cell_type": "markdown",
   "id": "29c888aa",
   "metadata": {},
   "source": [
    "The **RAD (Rapid Application Development)** is a model that supports software development processes to be carried out as quickly as possible.\n",
    "\n",
    "***The RAD model focuses on iterative*** and incremental delivery of working models to the customer.\n",
    "\n",
    "This model is **based on prototyping and results in rapid delivery.**\n",
    "\n",
    "For the users to adapt to the system quickly, prototypes that give an idea and revive the system are made.\n",
    "\n",
    "This model uses **minimal planning in favor of rapid prototyping.** Since there is no detailed preplanning, it makes it easier to incorporate the changes within the development process.\n",
    "\n",
    "The **main objectives** of this method are; can be explained as **high speed, high quality, and low cost.**\n",
    "\n",
    "The **purpose** of this model is **not to reveal fast and scattered software.** On the contrary, this model **aims to speed up the process by drawing attention to important points and increase the quality while accelerating the process with these points.**\n",
    "\n",
    "**The end-users should be included in the software design** and ask them to indicate their requests to the finest detail through workshops or focus groups.\n",
    "\n",
    "**Customer involvement reduces the risk** of non-conformance with the actual user requirements during the complete development cycle of the product.\n",
    "\n",
    "**The most important aspect** of this model to be successful is to make sure that the **prototypes developed are reusable.**"
   ]
  },
  {
   "cell_type": "markdown",
   "id": "e01a3ef8",
   "metadata": {},
   "source": [
    "# Design"
   ]
  },
  {
   "cell_type": "markdown",
   "id": "047c755f",
   "metadata": {},
   "source": [
    "Following are the various phases of the RAD Model;(BDPA)\n",
    "\n",
    "***1.Business Modeling*** - The business model for the product under development is designed **in terms of flow of information and the distribution of information between various business channels.** Complete business analysis is performed to **find vital information for business,** how it can be obtained, how and when is the information processed and what are the factors driving the successful flow of information.\n",
    "\n",
    "***2.Data Modeling*** - **The information gathered in the Business Modeling phase is reviewed and analyzed** to form sets of data objects vital for the business. **The attributes of all data sets are identified and defined.** The relation between these data objects is established and defined in detail in relevance to the business model.\n",
    "\n",
    "***3.Process Modeling*** - The data object sets defined in the Data Modeling phase are converted to establish the business information flow needed to achieve specific business objectives as per the business model. The process model **for any changes or enhancements to the data object sets is defined in this phase.** **Process descriptions for adding, deleting, retrieving or modifying a data object are given.**\n",
    "\n",
    "***4.Application Generation*** - **The actual system is built and coding is done by using automation tools** to convert process and data models into actual prototypes.\n",
    "\n",
    "***5.Testing and Turnover*** - The overall **testing time is reduced** in the RAD model as the prototypes are independently tested during every iteration. However, **the data flow and the interfaces between all the components need to be thoroughly tested with complete test coverage.** **Since most of the programming components have already been tested, it reduces the risk of any major issues.**"
   ]
  },
  {
   "cell_type": "markdown",
   "id": "37648978",
   "metadata": {},
   "source": [
    "# Application"
   ]
  },
  {
   "cell_type": "markdown",
   "id": "3380634c",
   "metadata": {},
   "source": [
    "RAD model can be applied successfully to the projects in which **clear modularization** is possible. If the project cannot be broken into modules, RAD may fail.\n",
    "\n",
    "The following pointers describe the typical scenarios where RAD can be used;\n",
    "\n",
    "RAD should be used only when a **system can be modularized to be delivered** in an incremental manner.\n",
    "***It should be used if there is a high availability of designers for modeling.***\n",
    "It should be used only if the **budget permits the use of **automated code* generating tools.*\n",
    "RAD SDLC model should be chosen only if domain experts are available with relevant business knowledge.\n",
    "It should be used where the requirements change during the project and working prototypes are to be presented to the customer in small iterations of 2-3 months."
   ]
  },
  {
   "cell_type": "markdown",
   "id": "805b85e4",
   "metadata": {},
   "source": [
    "# Advantages"
   ]
  },
  {
   "cell_type": "markdown",
   "id": "3b379c8f",
   "metadata": {},
   "source": [
    "***Changing requirements can be accommodated.***\n",
    "Progress can be measured.\n",
    "Iteration time can be short with the use of powerful RAD tools.\n",
    "Productivity with fewer people in a short time.\n",
    "Reduced development time.\n",
    "Increases the reusability of components.\n",
    "***Quick initial reviews occur.***\n",
    "***Encourages customer feedback.***\n",
    "Integration from the very beginning solves a lot of integration issues."
   ]
  },
  {
   "cell_type": "markdown",
   "id": "684e5d0f",
   "metadata": {},
   "source": [
    "# Disadvantages"
   ]
  },
  {
   "cell_type": "code",
   "execution_count": null,
   "id": "6ca575da",
   "metadata": {},
   "outputs": [],
   "source": [
    "Dependency on technically strong team members for identifying business requirements.\n",
    "The only system that can be modularized can be built using RAD.\n",
    "***Requires highly skilled developers/designers.***\n",
    "***High dependency on modeling skills.***\n",
    "Inapplicable to cheaper projects as the cost of modeling and automated code generation is very high.\n",
    "Management complexity is more.\n",
    "Suitable for systems that are component-based and scalable.\n",
    "Requires user involvement throughout the life cycle.\n",
    "Suitable for project requiring shorter development times."
   ]
  },
  {
   "cell_type": "markdown",
   "id": "0f48a090",
   "metadata": {},
   "source": [
    "# 6.Agile Model"
   ]
  },
  {
   "cell_type": "code",
   "execution_count": null,
   "id": "0c0e5e75",
   "metadata": {},
   "outputs": [],
   "source": [
    "This model will be explained under a separate lesson."
   ]
  },
  {
   "cell_type": "markdown",
   "id": "9a4a9c09",
   "metadata": {},
   "source": [
    "# 7.DevOps Model"
   ]
  },
  {
   "cell_type": "markdown",
   "id": "4e522966",
   "metadata": {},
   "source": [
    "# What is DevOps"
   ]
  },
  {
   "cell_type": "markdown",
   "id": "57c54331",
   "metadata": {},
   "source": [
    "The term DevOps is the short form of ***Development and Operations.***\n",
    "\n",
    "***It focuses on collaboration between developers and other roles.***\n",
    "\n",
    "DevOps is a practice that allows a single team to manage the entire application development life cycle, that is, development, testing, deployment, operations.\n",
    "\n",
    "DevOps aims to shorten the system’s development life cycle while delivering features, fixes, and updates frequently in close alignment with business objectives.\n",
    "\n",
    "***DevOps is an evolution of the **Agile** Model of software development.***\n",
    "\n",
    "***As the Agile model addressed the **gap between clients and developers**, **DevOps addressed the gap between Developers and Operations.** ***\n",
    "\n",
    "The development team will submit the application to the operations team for implementation.\n",
    "\n",
    "The operations team will monitor the application and provide relevant feedback to developers."
   ]
  },
  {
   "cell_type": "markdown",
   "id": "5361c9b6",
   "metadata": {},
   "source": [
    "# DevOps Phases"
   ]
  },
  {
   "cell_type": "code",
   "execution_count": null,
   "id": "54810e7f",
   "metadata": {},
   "outputs": [],
   "source": [
    "According to DevOps practices, the workflow in software development and delivery is divided into **8 phases.**"
   ]
  },
  {
   "cell_type": "markdown",
   "id": "41e26262",
   "metadata": {},
   "source": [
    "***1.Plan*** - Business owners and software development team discuss project goals and create a plan.\n",
    "\n",
    "***2.Code*** - Programmers then design and code the application and use tools like Git to store application code.\n",
    "\n",
    "***3.Build*** - Build tools like Maven and Gradle, take code from different repositories and combine them to build the complete application.\n",
    "\n",
    "***4.Test*** - Application is tested using automation testing tools like Selenium and Junit to ensure software quality.\n",
    "\n",
    "***5.Integrate*** - When testing is complete, new features are integrated automatically to the already existing codebase.\n",
    "\n",
    "***6.Deploy*** - Application is packaged after release and deployed from the development server to the production server.\n",
    "\n",
    "***7.Operate*** - Once the software is deployed, **the operations team performs activities such as configuring servers and provisioning them with the required resources.**\n",
    "\n",
    "***8.Monitor*** - Monitoring allows IT organizations to identify specific issues of specific releases and understand the impact on end-users."
   ]
  },
  {
   "cell_type": "markdown",
   "id": "dd96582a",
   "metadata": {},
   "source": [
    "# DevOps Model"
   ]
  },
  {
   "cell_type": "markdown",
   "id": "8747f755",
   "metadata": {},
   "source": [
    "The DevOps is a new SDLC model that ***focuses on **communication**, **collaboration**, **integration** between Developers and Operations teams*** to accelerate innovation and the deployment of higher-quality and more reliable software products."
   ]
  },
  {
   "cell_type": "raw",
   "id": "69080d7c",
   "metadata": {},
   "source": [
    "DevOps is a culture that promotes collaboration between Development and Operations teams. This allows deploying code to production faster and in an automated way. It helps to increases an organization's speed to deliver applications and services.\n",
    "\n",
    "DevOps is the practice of operations and development engineers participating together in the entire service lifecycle, from design through the development process to production support."
   ]
  },
  {
   "cell_type": "markdown",
   "id": "399bd01f",
   "metadata": {},
   "source": [
    "DevOps is a practice that aims at merging **development , quality assurance , and operations** into a single, continuous set of processes."
   ]
  },
  {
   "cell_type": "markdown",
   "id": "6be62c37",
   "metadata": {},
   "source": [
    "# DevOps Processes"
   ]
  },
  {
   "cell_type": "markdown",
   "id": "69e8afa7",
   "metadata": {},
   "source": [
    "DevOps Model consists of various stages such as **continuous development, continuous integration, continuous testing, continuous deployment, continuous monitoring, and continuous feedback.**"
   ]
  },
  {
   "cell_type": "markdown",
   "id": "240deac5",
   "metadata": {},
   "source": [
    "***1.Continuous Development***\n",
    "\n",
    "This is the phase that **involves planning and coding** of the software. The vision of the project is decided during the planning phase and the developers begin developing the code for the application. **There are no DevOps tools that are required for planning,** but there are a number of tools for maintaining the code.\n",
    "\n",
    "***2.Continuous Testing***\n",
    "\n",
    "This is the stage where the developed software is continuously **tested for bugs.** **For Continuous Testing, automation *testing tools like Selenium, TestNG, JUnit,* etc are used.**\n",
    "\n",
    "***3.Continuous Integration***\n",
    "\n",
    "This stage is the **heart* of the entire DevOps life cycle.** It is a software development practice in which the developers require to commit changes to the source code more frequently.\n",
    "\n",
    "This may be on a daily or a weekly basis. Every commit is then built and this allows early detection of problems if they are present. **Building code not only involves compilation but it also includes code review, unit testing, integration testing, and packaging.**\n",
    "\n",
    "The code supporting new functionality is continuously integrated with the existing code. Since there is continuous development of software, the updated code needs to be integrated continuously as well as smoothly with the systems to reflect changes to the end-users.\n",
    "\n",
    "***Jenkins* is a very popular tool used in this phase.**\n",
    "\n",
    "***4.Continuous Deployment***\n",
    "\n",
    "This is the stage where the code is deployed to the production servers.\n",
    "\n",
    "It is also important to ensure that the code is correctly deployed on all the servers.\n",
    "\n",
    "***5.Continuous Monitoring***\n",
    "\n",
    "This is a **very crucial stage** of the DevOps life cycle, where it is continuously **monitored the performance of the application.**\n",
    "\n",
    "**Here vital information about the use of the software is recorded.**\n",
    "\n",
    "This information is processed to recognize the proper functionality of the application.\n",
    "\n",
    "**The system errors such as low memory, server not reachable, etc. are resolved in this phase.**\n",
    "\n",
    "The root cause of any issue is determined in this phase.\n",
    "\n",
    "It maintains the security and availability of the services."
   ]
  },
  {
   "cell_type": "markdown",
   "id": "934a7c61",
   "metadata": {},
   "source": [
    "# DevOps Principles"
   ]
  },
  {
   "cell_type": "code",
   "execution_count": null,
   "id": "7b9ba56d",
   "metadata": {},
   "outputs": [],
   "source": [
    "Create production-like systems for development and testing environment\n",
    "Deployments need to iterative and frequent. Ensure a reliable and repeatable process\n",
    "Continuously monitor and validate operational quality characteristics\n",
    "Amplify feedback loop"
   ]
  },
  {
   "cell_type": "markdown",
   "id": "30c6b07f",
   "metadata": {},
   "source": [
    "# Advantages"
   ]
  },
  {
   "cell_type": "markdown",
   "id": "9c010173",
   "metadata": {},
   "source": [
    "**Time taken to create and deliver software is reduced**\n",
    "**The complexity of maintaining an application is reduced**\n",
    "**Improved collaboration between developers and operations team**\n",
    "**Continuous integration and delivery ensure *faster* time to market**"
   ]
  },
  {
   "cell_type": "markdown",
   "id": "304b4dd0",
   "metadata": {},
   "source": [
    "# Disadvantages"
   ]
  },
  {
   "cell_type": "markdown",
   "id": "abbe2e80",
   "metadata": {},
   "source": [
    "**Technology investments in the automation tools required for DevOps are costly** and will take a **great deal of time** to identify and implement.\n",
    "It needs a specialist who can cover each stage of the software delivery pipeline rather than investing in a smaller number of full-stack developers.\n",
    "It is easy to add new features, but more features may not always better, even if they can be implemented efficiently."
   ]
  },
  {
   "cell_type": "markdown",
   "id": "22923566",
   "metadata": {},
   "source": [
    "# Check Yourself - 2 (Optional)"
   ]
  },
  {
   "cell_type": "code",
   "execution_count": null,
   "id": "f1feddad",
   "metadata": {},
   "outputs": [],
   "source": [
    "The key to the successful use of an iterative life cycle of software development is to rigorously validate requirements and test only the last version of the software.\n",
    "\n",
    "Select one:\n",
    "True\n",
    "False"
   ]
  },
  {
   "cell_type": "markdown",
   "id": "a90d651f",
   "metadata": {},
   "source": [
    "Which of the following is NOT among the advantages of the Waterfall Model?\n",
    "\n",
    "Select one:\n",
    "Every development phase proceeds in strict order.\n",
    "Easy to manage because of model rigidity. There are specific deliverables and a review process for each phase.\n",
    "It allows control and departmentalization.\n",
    "Tasks are easy to arrange.\n",
    "The number of errors during the test phase is very big."
   ]
  },
  {
   "cell_type": "code",
   "execution_count": null,
   "id": "b75d0b51",
   "metadata": {},
   "outputs": [],
   "source": [
    "Which of the following statement is NOT correct for the Iterative Model?\n",
    "\n",
    "Select one:\n",
    "Only at the last phase, a working software is produced.\n",
    "At each iteration, design modifications are made.\n",
    "At each iteration, new functional capabilities are added. \n",
    "At the end of every iteration, a version of the software is produced."
   ]
  },
  {
   "cell_type": "code",
   "execution_count": null,
   "id": "5990e453",
   "metadata": {},
   "outputs": [],
   "source": [
    "In The Waterfall approach, the entire software development process is divided into separate phases.\n",
    "\n",
    "Select one:\n",
    "True\n",
    "False"
   ]
  },
  {
   "cell_type": "code",
   "execution_count": null,
   "id": "ad3bd5a7",
   "metadata": {},
   "outputs": [],
   "source": [
    "Which of the following statement is NOT correct for DevOps?\n",
    "\n",
    "Select one:\n",
    "DevOps is an evolution of the Agile Model of software development.\n",
    "DevOps model addressed the gap between clients and developers. Well done!\n",
    "The term DevOps is the short form of Development and Operations.\n",
    "It focuses on collaboration between developers and other roles."
   ]
  },
  {
   "cell_type": "code",
   "execution_count": null,
   "id": "e96d6dfa",
   "metadata": {},
   "outputs": [],
   "source": [
    "Which of the following is among the SDLC process phases?\n",
    "\n",
    "Select one or more:\n",
    "Deployment / Deliver \n",
    "Maintenance \n",
    "Testing \n",
    "Controlling\n",
    "Requirement \n",
    "Build / Development \n",
    "Design "
   ]
  },
  {
   "cell_type": "code",
   "execution_count": null,
   "id": "c94bc4cc",
   "metadata": {},
   "outputs": [],
   "source": [
    "Which of the following is among the software development models?\n",
    "\n",
    "Select one or more:\n",
    "Iterative Well done!\n",
    "Agile You're doing great!\n",
    "Benchmark\n",
    "RAD Congratulations!\n",
    "COBIT"
   ]
  },
  {
   "cell_type": "code",
   "execution_count": null,
   "id": "cfcc065c",
   "metadata": {},
   "outputs": [],
   "source": [
    "The DevOps is a new SDLC model that focuses on ______________, ______________, ______________ between Developers, and Operations teams to accelerate innovation and the deployment of higher-quality and more reliable software products.\n",
    "\n",
    "Select one or more:\n",
    "separation\n",
    "transformation\n",
    "communication Well done!\n",
    "integration Congratulations!\n",
    "collaboration Bravo!"
   ]
  },
  {
   "cell_type": "code",
   "execution_count": null,
   "id": "fd9c0434",
   "metadata": {},
   "outputs": [],
   "source": [
    "DevOps is a practice that aims at merging ______________, ______________, and ______________ into a single, continuous set of processes.\n",
    "\n",
    "Select one or more:\n",
    "Implementation\n",
    "development Well done!\n",
    "operations Congratulations!\n",
    "quality assurance Bravo!\n",
    "Maintenance"
   ]
  },
  {
   "cell_type": "code",
   "execution_count": null,
   "id": "9fc5c443",
   "metadata": {},
   "outputs": [],
   "source": [
    "In the __________ model, each phase finds what the previous phase produces at the starting point and there is no overlapping in the phases.\n",
    "\n",
    "Select one:\n",
    "Waterfall model \n",
    "RAD model\n",
    "Spiral model\n",
    "Incremental model"
   ]
  },
  {
   "cell_type": "code",
   "execution_count": null,
   "id": "5170c361",
   "metadata": {},
   "outputs": [],
   "source": [
    "In which DevOps phase, the operations team performs activities such as configuring servers and provisioning them with the required resources?\n",
    "\n",
    "Select one:\n",
    "Monitor\n",
    "Plan\n",
    "Test\n",
    "Build\n",
    "Deploy\n",
    "Operate Well done!"
   ]
  },
  {
   "cell_type": "code",
   "execution_count": null,
   "id": "fc6ea239",
   "metadata": {},
   "outputs": [],
   "source": [
    "Which of the following is NOT among the advantages of the DevOps Model?\n",
    "\n",
    "Select one:\n",
    "Continuous integration and delivery ensure a longer time to market Well done!\n",
    "The complexity of maintaining an application is reduced\n",
    "Improved collaboration between developers and operations team\n",
    "Time taken to create and deliver software is reduced"
   ]
  },
  {
   "cell_type": "code",
   "execution_count": null,
   "id": "385b832a",
   "metadata": {},
   "outputs": [],
   "source": []
  },
  {
   "cell_type": "code",
   "execution_count": null,
   "id": "2bdc19bc",
   "metadata": {},
   "outputs": [],
   "source": []
  }
 ],
 "metadata": {
  "kernelspec": {
   "display_name": "Python 3",
   "language": "python",
   "name": "python3"
  },
  "language_info": {
   "codemirror_mode": {
    "name": "ipython",
    "version": 3
   },
   "file_extension": ".py",
   "mimetype": "text/x-python",
   "name": "python",
   "nbconvert_exporter": "python",
   "pygments_lexer": "ipython3",
   "version": "3.8.8"
  }
 },
 "nbformat": 4,
 "nbformat_minor": 5
}
