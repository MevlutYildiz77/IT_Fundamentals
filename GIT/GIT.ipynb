{
 "cells": [
  {
   "cell_type": "markdown",
   "id": "1d30cf8c",
   "metadata": {},
   "source": [
    "# Check Git Version"
   ]
  },
  {
   "cell_type": "code",
   "execution_count": null,
   "id": "aac9f15f",
   "metadata": {},
   "outputs": [],
   "source": [
    "git --version"
   ]
  },
  {
   "cell_type": "markdown",
   "id": "8dd01c6c",
   "metadata": {},
   "source": [
    "# git needs your identity to mark/label changes/editor"
   ]
  },
  {
   "cell_type": "code",
   "execution_count": null,
   "id": "51dfa0e7",
   "metadata": {},
   "outputs": [],
   "source": [
    "git config --global user.name \"Your name\""
   ]
  },
  {
   "cell_type": "code",
   "execution_count": null,
   "id": "cbe95764",
   "metadata": {},
   "outputs": [],
   "source": [
    "git config --global user.emai \"Your email\""
   ]
  },
  {
   "cell_type": "code",
   "execution_count": null,
   "id": "c6a7e46b",
   "metadata": {},
   "outputs": [],
   "source": [
    "git config --global core.editor \"vim\""
   ]
  },
  {
   "cell_type": "code",
   "execution_count": null,
   "id": "d50c30d9",
   "metadata": {},
   "outputs": [],
   "source": [
    "git config --list"
   ]
  },
  {
   "cell_type": "markdown",
   "id": "cfdb90f2",
   "metadata": {},
   "source": [
    "# Git Repository"
   ]
  },
  {
   "cell_type": "markdown",
   "id": "37462b5f",
   "metadata": {},
   "source": [
    "to create a new local repo:\n",
    "git init"
   ]
  },
  {
   "cell_type": "code",
   "execution_count": null,
   "id": "a885e513",
   "metadata": {},
   "outputs": [],
   "source": [
    "to see the comments:\n",
    "    git help"
   ]
  },
  {
   "cell_type": "code",
   "execution_count": null,
   "id": "00216539",
   "metadata": {},
   "outputs": [],
   "source": [
    "to see the status of your repo:\n",
    "    git status"
   ]
  },
  {
   "cell_type": "code",
   "execution_count": null,
   "id": "c92077cd",
   "metadata": {},
   "outputs": [],
   "source": [
    "to create a new remote repo and connect it with your local repo(after you create a remote repo on GitHub/Bitbucket etc):\n",
    "    git clone address"
   ]
  },
  {
   "cell_type": "markdown",
   "id": "77e5a9d6",
   "metadata": {},
   "source": [
    "# Stage files options"
   ]
  },
  {
   "cell_type": "code",
   "execution_count": null,
   "id": "fae10ed6",
   "metadata": {},
   "outputs": [],
   "source": [
    "stage one file:\n",
    "    git add filename"
   ]
  },
  {
   "cell_type": "code",
   "execution_count": null,
   "id": "188d3181",
   "metadata": {},
   "outputs": [],
   "source": [
    "stage all files:\n",
    "    git add ."
   ]
  },
  {
   "cell_type": "code",
   "execution_count": null,
   "id": "f01cec60",
   "metadata": {},
   "outputs": [],
   "source": [
    "stage all changes:\n",
    "    git add -A"
   ]
  },
  {
   "cell_type": "code",
   "execution_count": null,
   "id": "50144f91",
   "metadata": {},
   "outputs": [],
   "source": [
    "stage modified and deleted files only:\n",
    "    git add -u"
   ]
  },
  {
   "cell_type": "markdown",
   "id": "8cf69ee1",
   "metadata": {},
   "source": [
    "# Commit"
   ]
  },
  {
   "cell_type": "code",
   "execution_count": null,
   "id": "b0741466",
   "metadata": {},
   "outputs": [],
   "source": [
    "commit the files on the stage:\n",
    "    git commit -m \"message\""
   ]
  },
  {
   "cell_type": "code",
   "execution_count": null,
   "id": "ff301537",
   "metadata": {},
   "outputs": [],
   "source": [
    "add and commit all tracked files:\n",
    "    git commit -am \"message\""
   ]
  },
  {
   "cell_type": "code",
   "execution_count": null,
   "id": "84a8c1c3",
   "metadata": {},
   "outputs": [],
   "source": [
    "amend commit message(change the message on the commit):\n",
    "    git commit --amend"
   ]
  },
  {
   "cell_type": "markdown",
   "id": "712bf339",
   "metadata": {},
   "source": [
    "# Remove from stage"
   ]
  },
  {
   "cell_type": "code",
   "execution_count": null,
   "id": "8cd5c5e7",
   "metadata": {},
   "outputs": [],
   "source": [
    "git rm --cached \"file name\"\n",
    "\n",
    "git restore --staged \"file name\""
   ]
  },
  {
   "cell_type": "markdown",
   "id": "aec324c5",
   "metadata": {},
   "source": [
    "# Checkout from repo(goes to the working directory)"
   ]
  },
  {
   "cell_type": "code",
   "execution_count": null,
   "id": "42e376a1",
   "metadata": {},
   "outputs": [],
   "source": [
    "git checkout"
   ]
  },
  {
   "cell_type": "markdown",
   "id": "22e47681",
   "metadata": {},
   "source": [
    "# Delete the file"
   ]
  },
  {
   "cell_type": "code",
   "execution_count": null,
   "id": "9775eea3",
   "metadata": {},
   "outputs": [],
   "source": [
    "rm file1.txt"
   ]
  },
  {
   "cell_type": "markdown",
   "id": "db66f122",
   "metadata": {},
   "source": [
    "# Rename file2.txt >> file3.txt"
   ]
  },
  {
   "cell_type": "code",
   "execution_count": null,
   "id": "d6d2b14e",
   "metadata": {},
   "outputs": [],
   "source": [
    "mv fle2.txt file3.txt"
   ]
  },
  {
   "cell_type": "markdown",
   "id": "a29289a1",
   "metadata": {},
   "source": [
    "# Switch back to your first commit in Task1\n",
    "    "
   ]
  },
  {
   "cell_type": "code",
   "execution_count": null,
   "id": "bd92c2bc",
   "metadata": {},
   "outputs": [],
   "source": [
    "git log\n",
    "git checkout \"first commit ID\""
   ]
  }
 ],
 "metadata": {
  "kernelspec": {
   "display_name": "Python 3",
   "language": "python",
   "name": "python3"
  },
  "language_info": {
   "codemirror_mode": {
    "name": "ipython",
    "version": 3
   },
   "file_extension": ".py",
   "mimetype": "text/x-python",
   "name": "python",
   "nbconvert_exporter": "python",
   "pygments_lexer": "ipython3",
   "version": "3.8.8"
  }
 },
 "nbformat": 4,
 "nbformat_minor": 5
}
