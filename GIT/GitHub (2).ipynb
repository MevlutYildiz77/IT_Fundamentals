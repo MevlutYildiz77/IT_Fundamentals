{
 "cells": [
  {
   "cell_type": "markdown",
   "id": "e4a42f23",
   "metadata": {},
   "source": [
    "# What is GitHub?"
   ]
  },
  {
   "cell_type": "raw",
   "id": "3efe9635",
   "metadata": {},
   "source": [
    "GitHub is a Git repository hosting (Source Code Hosting) service , but it adds many of its own features."
   ]
  },
  {
   "cell_type": "raw",
   "id": "02b86c4f",
   "metadata": {},
   "source": [
    "It is a web-based platform used for version control"
   ]
  },
  {
   "cell_type": "raw",
   "id": "43828428",
   "metadata": {},
   "source": [
    "provides a Web-based graphical interface."
   ]
  },
  {
   "cell_type": "raw",
   "id": "7053e9f1",
   "metadata": {},
   "source": [
    "It also provides access control and several collaboration features, such as a wikis and basic task management tools for every project."
   ]
  },
  {
   "cell_type": "markdown",
   "id": "dfd9a48c",
   "metadata": {},
   "source": [
    "# What is the difference between Git and GitHub?"
   ]
  },
  {
   "cell_type": "code",
   "execution_count": null,
   "id": "49c32c90",
   "metadata": {},
   "outputs": [],
   "source": [
    "Git is a version control system that lets you manage and keep track of your source code history locally."
   ]
  },
  {
   "cell_type": "code",
   "execution_count": null,
   "id": "72e0a229",
   "metadata": {},
   "outputs": [],
   "source": [
    "GitHub is a cloud-based hosting service that lets you manage Git repositories."
   ]
  },
  {
   "cell_type": "markdown",
   "id": "b335b454",
   "metadata": {},
   "source": [
    "# Source Code Hosting Facilities"
   ]
  },
  {
   "cell_type": "code",
   "execution_count": null,
   "id": "dd1e3cd3",
   "metadata": {},
   "outputs": [],
   "source": [
    "GitLab- Bitbucket- SOURCEFORCE-launcpad-GitHub"
   ]
  },
  {
   "cell_type": "markdown",
   "id": "09f8b00e",
   "metadata": {},
   "source": [
    "# Creating GitHub Account"
   ]
  },
  {
   "cell_type": "code",
   "execution_count": null,
   "id": "8512b827",
   "metadata": {},
   "outputs": [],
   "source": [
    "go to https://github.com"
   ]
  },
  {
   "cell_type": "raw",
   "id": "db26bfc7",
   "metadata": {},
   "source": [
    "Enter a username, a valid e-mail address and a password."
   ]
  },
  {
   "cell_type": "raw",
   "id": "20c16be3",
   "metadata": {},
   "source": [
    "solve the puzzle to prove you are not a robot."
   ]
  },
  {
   "cell_type": "raw",
   "id": "14fe2bd1",
   "metadata": {},
   "source": [
    "click \"Next\" to choose a plan."
   ]
  },
  {
   "cell_type": "raw",
   "id": "ac200638",
   "metadata": {},
   "source": [
    "choose a plan (Free $0 USD)"
   ]
  },
  {
   "cell_type": "raw",
   "id": "957887f6",
   "metadata": {},
   "source": [
    "answering some questions. Just pick the ones that fit you or you can proceed to the end of the page to skip."
   ]
  },
  {
   "cell_type": "raw",
   "id": "de6e4802",
   "metadata": {},
   "source": [
    "After completing the set up, a verification email will be sent by GitHub."
   ]
  },
  {
   "cell_type": "raw",
   "id": "b0d352d9",
   "metadata": {},
   "source": [
    "Go, check the email, and verify your email adress."
   ]
  },
  {
   "cell_type": "markdown",
   "id": "f4850a58",
   "metadata": {},
   "source": [
    "# Create Your First Repo"
   ]
  },
  {
   "cell_type": "raw",
   "id": "a282495b",
   "metadata": {},
   "source": [
    "Type the name of your first repository, \"lab1.1\" in this case, and click \"Create repository\"."
   ]
  },
  {
   "cell_type": "raw",
   "id": "3c5a1d91",
   "metadata": {},
   "source": [
    "Now open Git Bash or a terminal in your computer and let's begin to create our local repo."
   ]
  },
  {
   "cell_type": "raw",
   "id": "a4bde2ec",
   "metadata": {},
   "source": [
    "create these files under the \"lab1.1\" folder which has the same name with our GitHub repo.First, create some files by entering \"touch\" command."
   ]
  },
  {
   "cell_type": "code",
   "execution_count": null,
   "id": "61a67918",
   "metadata": {},
   "outputs": [],
   "source": [
    " $ touch index.html file.txt cprog.c javaprog.java index.js style.css type.ts\n",
    "\n",
    "  $ ls –al"
   ]
  },
  {
   "cell_type": "raw",
   "id": "d3526dff",
   "metadata": {},
   "source": [
    "then execute \"git init\" command to create an empty local repo. Initialized empty Git repository in \"home/guile/lab1.1/.git\"."
   ]
  },
  {
   "cell_type": "code",
   "execution_count": null,
   "id": "704b01e2",
   "metadata": {},
   "outputs": [],
   "source": [
    "  $ git init\n"
   ]
  },
  {
   "cell_type": "raw",
   "id": "14aa5d12",
   "metadata": {},
   "source": [
    "to add the files to staging area from the working area."
   ]
  },
  {
   "cell_type": "code",
   "execution_count": null,
   "id": "885056f4",
   "metadata": {},
   "outputs": [],
   "source": [
    "$ git add ."
   ]
  },
  {
   "cell_type": "raw",
   "id": "c8ec19e1",
   "metadata": {},
   "source": [
    "now we can see the status of our files with the \"git status\" command."
   ]
  },
  {
   "cell_type": "code",
   "execution_count": null,
   "id": "1e2dcc7d",
   "metadata": {},
   "outputs": [],
   "source": [
    " $ git status"
   ]
  },
  {
   "cell_type": "raw",
   "id": "fb8f99c4",
   "metadata": {},
   "source": [
    "commit our files to local repo with the command \"git commit –m\"."
   ]
  },
  {
   "cell_type": "code",
   "execution_count": null,
   "id": "ad901f05",
   "metadata": {},
   "outputs": [],
   "source": [
    "$ git commit –m “This folder includes demo files” "
   ]
  },
  {
   "cell_type": "raw",
   "id": "f7fb3281",
   "metadata": {},
   "source": [
    "it is time to add our file to GitHub with command \"git remote add\". Use your own repo URL."
   ]
  },
  {
   "cell_type": "code",
   "execution_count": null,
   "id": "9a110aca",
   "metadata": {},
   "outputs": [],
   "source": [
    " $ git remote add origin YOUR_REPO_URL\n",
    "  # For example: git remote add origin https://github.com/guile-clarusway/lab1.1.git"
   ]
  },
  {
   "cell_type": "raw",
   "id": "86d7b001",
   "metadata": {},
   "source": [
    "Local git instance added to remote repository. And then we can go ahead and push our files to remote repository we have just created on GitHub."
   ]
  },
  {
   "cell_type": "code",
   "execution_count": null,
   "id": "fa32730a",
   "metadata": {},
   "outputs": [],
   "source": [
    "$ git push -u origin main"
   ]
  }
 ],
 "metadata": {
  "kernelspec": {
   "display_name": "Python 3",
   "language": "python",
   "name": "python3"
  },
  "language_info": {
   "codemirror_mode": {
    "name": "ipython",
    "version": 3
   },
   "file_extension": ".py",
   "mimetype": "text/x-python",
   "name": "python",
   "nbconvert_exporter": "python",
   "pygments_lexer": "ipython3",
   "version": "3.8.8"
  }
 },
 "nbformat": 4,
 "nbformat_minor": 5
}
