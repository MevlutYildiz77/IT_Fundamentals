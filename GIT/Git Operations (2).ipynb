{
 "cells": [
  {
   "cell_type": "markdown",
   "id": "329bebf0",
   "metadata": {},
   "source": [
    "# Cloning Remote Repo to Local"
   ]
  },
  {
   "cell_type": "raw",
   "id": "317128f0",
   "metadata": {},
   "source": [
    "Clone (download) a repository that already exists on GitHub, including all of the files, branches, and commits"
   ]
  },
  {
   "cell_type": "raw",
   "id": "7041810c",
   "metadata": {},
   "source": [
    " $ git clone YOUR_REPO_URL"
   ]
  },
  {
   "cell_type": "code",
   "execution_count": null,
   "id": "9f77a7e8",
   "metadata": {},
   "outputs": [],
   "source": [
    "$ git clone https://github.com/guile-clarusway/my-demo-repo.git"
   ]
  },
  {
   "cell_type": "markdown",
   "id": "564b9d18",
   "metadata": {},
   "source": [
    "# cloned it to your local repo. Let's check,"
   ]
  },
  {
   "cell_type": "code",
   "execution_count": null,
   "id": "25b16e56",
   "metadata": {},
   "outputs": [],
   "source": [
    " $ ls"
   ]
  },
  {
   "cell_type": "markdown",
   "id": "05fce6b4",
   "metadata": {},
   "source": [
    "# open the folder."
   ]
  },
  {
   "cell_type": "code",
   "execution_count": null,
   "id": "0a41b53d",
   "metadata": {},
   "outputs": [],
   "source": [
    "  $ ls -al"
   ]
  },
  {
   "cell_type": "raw",
   "id": "73350917",
   "metadata": {},
   "source": [
    "You should notice that .git already exists in addition to the README.md which is the only file in the repo. You don't need to use git init to initiate a repo when you clone it from remote."
   ]
  },
  {
   "cell_type": "markdown",
   "id": "44a8c991",
   "metadata": {},
   "source": [
    "# Creating a New Branch"
   ]
  },
  {
   "cell_type": "raw",
   "id": "11449491",
   "metadata": {},
   "source": [
    "You can create a new branch, make some progress on it and you can go back to the master branch if you are not satisfied with the new branch. You can think branches as a reference or bookmark to a specific commit."
   ]
  },
  {
   "cell_type": "code",
   "execution_count": null,
   "id": "1b53604d",
   "metadata": {},
   "outputs": [],
   "source": [
    "$ git branch demobranch"
   ]
  },
  {
   "cell_type": "markdown",
   "id": "2d703afa",
   "metadata": {},
   "source": [
    "# check your current branch"
   ]
  },
  {
   "cell_type": "code",
   "execution_count": null,
   "id": "e72a10a4",
   "metadata": {},
   "outputs": [],
   "source": [
    "$ git branch"
   ]
  },
  {
   "cell_type": "code",
   "execution_count": null,
   "id": "6a65f324",
   "metadata": {},
   "outputs": [],
   "source": [
    "# switch to the branch"
   ]
  },
  {
   "cell_type": "code",
   "execution_count": null,
   "id": "9d3eb151",
   "metadata": {},
   "outputs": [],
   "source": [
    "$ git checkout demobranch"
   ]
  },
  {
   "cell_type": "code",
   "execution_count": null,
   "id": "786fe8c1",
   "metadata": {},
   "outputs": [],
   "source": [
    "We are now on the new branch and we can start working."
   ]
  },
  {
   "cell_type": "markdown",
   "id": "b730972a",
   "metadata": {},
   "source": [
    "# add a simple Python file to our project."
   ]
  },
  {
   "cell_type": "code",
   "execution_count": null,
   "id": "1e8d196f",
   "metadata": {},
   "outputs": [],
   "source": [
    "$ vim hello.py"
   ]
  },
  {
   "cell_type": "code",
   "execution_count": null,
   "id": "959b32be",
   "metadata": {},
   "outputs": [],
   "source": [
    "add print(\"Hello World\") to the file."
   ]
  },
  {
   "cell_type": "markdown",
   "id": "1a8aa0b0",
   "metadata": {},
   "source": [
    "# check it "
   ]
  },
  {
   "cell_type": "code",
   "execution_count": null,
   "id": "3044241e",
   "metadata": {},
   "outputs": [],
   "source": [
    "$ cat hello.py"
   ]
  },
  {
   "cell_type": "markdown",
   "id": "91b1c3a5",
   "metadata": {},
   "source": [
    "# We can stage"
   ]
  },
  {
   "cell_type": "code",
   "execution_count": null,
   "id": "d9fa26b9",
   "metadata": {},
   "outputs": [],
   "source": [
    "$ git add ."
   ]
  },
  {
   "cell_type": "markdown",
   "id": "d4e00546",
   "metadata": {},
   "source": [
    "# commit it now"
   ]
  },
  {
   "cell_type": "code",
   "execution_count": null,
   "id": "fc8f6798",
   "metadata": {},
   "outputs": [],
   "source": [
    "$ git commit -m \"New python file added\""
   ]
  },
  {
   "cell_type": "markdown",
   "id": "e21c182b",
   "metadata": {},
   "source": [
    "# check our log  = Make changes"
   ]
  },
  {
   "cell_type": "code",
   "execution_count": null,
   "id": "b1ce9071",
   "metadata": {},
   "outputs": [],
   "source": [
    "$ git log"
   ]
  },
  {
   "cell_type": "markdown",
   "id": "8746b625",
   "metadata": {},
   "source": [
    "# Pushing Branch to Remote"
   ]
  },
  {
   "cell_type": "code",
   "execution_count": null,
   "id": "2f86cbea",
   "metadata": {},
   "outputs": [],
   "source": [
    "$ git push origin demobranch"
   ]
  },
  {
   "cell_type": "raw",
   "id": "b2c86c85",
   "metadata": {},
   "source": [
    "we used git remote add origin command previous to git push command. Here we don't need this command because we cloned our repo from remote and both the remote and the local repo are already associated with each other."
   ]
  },
  {
   "cell_type": "markdown",
   "id": "f7a4e4ce",
   "metadata": {},
   "source": [
    "# Creating Pull Request (PR) on GitHub"
   ]
  },
  {
   "cell_type": "raw",
   "id": "7b65e89e",
   "metadata": {},
   "source": [
    "Pull Request (PR) is a method that you tell other contributors or team members that you had some changes (fixing bugs, adding new features, etc.) on the repo and you want to contribute these to the repo. After those changes have been checked and confirmed by the authorized people it is merged to the repo."
   ]
  },
  {
   "cell_type": "code",
   "execution_count": null,
   "id": "e3f224c9",
   "metadata": {},
   "outputs": [],
   "source": [
    "Code/Create pull request.\n",
    "\n"
   ]
  },
  {
   "cell_type": "markdown",
   "id": "81118bd7",
   "metadata": {},
   "source": [
    "# Merging Pull Request"
   ]
  },
  {
   "cell_type": "code",
   "execution_count": null,
   "id": "6d49d813",
   "metadata": {},
   "outputs": [],
   "source": [
    "Pull Request/Open/Merge Pull Request"
   ]
  },
  {
   "cell_type": "code",
   "execution_count": null,
   "id": "a899b82d",
   "metadata": {},
   "outputs": [],
   "source": [
    "Click Code tab to see how the repo looks like after merge."
   ]
  },
  {
   "cell_type": "markdown",
   "id": "56857cd6",
   "metadata": {},
   "source": [
    "# Updating Local Repo"
   ]
  },
  {
   "cell_type": "raw",
   "id": "26338fa4",
   "metadata": {},
   "source": [
    "we have created a new branch on our local repo and pushed it to remote repo. Now, our remote repo (GitHub repo) is on master branch and up to date, but local repo is not. So, let's go back to GitBash/Terminal and update our local master branch."
   ]
  },
  {
   "cell_type": "code",
   "execution_count": null,
   "id": "7580a38f",
   "metadata": {},
   "outputs": [],
   "source": [
    "First, switch to master branch."
   ]
  },
  {
   "cell_type": "code",
   "execution_count": null,
   "id": "cbba9c9a",
   "metadata": {},
   "outputs": [],
   "source": [
    "$ git checkout master"
   ]
  },
  {
   "cell_type": "code",
   "execution_count": null,
   "id": "6d004a70",
   "metadata": {},
   "outputs": [],
   "source": [
    "to update our local repo."
   ]
  },
  {
   "cell_type": "code",
   "execution_count": null,
   "id": "32af9d06",
   "metadata": {},
   "outputs": [],
   "source": [
    "$ git pull origin master"
   ]
  },
  {
   "cell_type": "markdown",
   "id": "ac14b4e8",
   "metadata": {},
   "source": [
    "# Forking Projects"
   ]
  },
  {
   "cell_type": "raw",
   "id": "006f31e5",
   "metadata": {},
   "source": [
    "you may find yourself wanting to contribute to someone else’s project. Or maybe you’d like to use someone’s project as the starting point for your own. This process is known as forking."
   ]
  },
  {
   "cell_type": "raw",
   "id": "123ef6d4",
   "metadata": {},
   "source": [
    "Creating a “fork” is producing a personal copy of someone else’s project. Forks act as a sort of bridge between the original repository and your personal copy. You can submit Pull Requests to help make other people’s projects better by offering your changes up to the original project."
   ]
  },
  {
   "cell_type": "raw",
   "id": "ca2e4547",
   "metadata": {},
   "source": [
    "click the Fork button in the header of the repository."
   ]
  },
  {
   "cell_type": "markdown",
   "id": "11a47460",
   "metadata": {},
   "source": [
    "# Clone your fork"
   ]
  },
  {
   "cell_type": "raw",
   "id": "18b57a76",
   "metadata": {},
   "source": [
    "# You’ve successfully forked the devops repository, but so far, it only exists on GitHub. To be able to work on the project, you will need to clone it to your computer."
   ]
  },
  {
   "cell_type": "markdown",
   "id": "136e3126",
   "metadata": {},
   "source": [
    "# Making and pushing changes"
   ]
  },
  {
   "cell_type": "raw",
   "id": "ab5465bf",
   "metadata": {},
   "source": [
    "Go ahead and make a few changes to the project using your favorite text editor. You could, for example, change the text in README.MD to add your GitHub username.\n",
    "\n"
   ]
  },
  {
   "cell_type": "markdown",
   "id": "0f4f6d5f",
   "metadata": {},
   "source": [
    "# Making a Pull Request"
   ]
  },
  {
   "cell_type": "raw",
   "id": "979b1104",
   "metadata": {},
   "source": [
    "Clicking on Compare and Pull Request sends you to a discussion page, where you can enter a title and optional description."
   ]
  },
  {
   "cell_type": "raw",
   "id": "72e23018",
   "metadata": {},
   "source": [
    "Press \"Create pull request\"\""
   ]
  },
  {
   "cell_type": "markdown",
   "id": "02f91d3e",
   "metadata": {},
   "source": [
    "# Rebasing"
   ]
  },
  {
   "cell_type": "raw",
   "id": "e587137c",
   "metadata": {},
   "source": [
    "In Git, there are two main ways to integrate changes from one branch into another: the merge and the rebase."
   ]
  },
  {
   "cell_type": "raw",
   "id": "d11b3994",
   "metadata": {},
   "source": [
    " there is another way: you can take the patch of the change that was introduced in C4 and reapply it on top of C3. In Git, this is called rebasing. With the rebase command, you can take all the changes that were committed on one branch and replay them on a different branch."
   ]
  },
  {
   "cell_type": "code",
   "execution_count": null,
   "id": "63f4b4aa",
   "metadata": {},
   "outputs": [],
   "source": [
    "you would check out the experiment branch, and then rebase it onto the master branch as follows:"
   ]
  },
  {
   "cell_type": "code",
   "execution_count": null,
   "id": "59125447",
   "metadata": {},
   "outputs": [],
   "source": [
    "$ git checkout experiment\n",
    "$ git rebase master\n",
    "First, rewinding head to replay your work on top of it...\n",
    "Applying: added staged command"
   ]
  },
  {
   "cell_type": "raw",
   "id": "c33c1ffd",
   "metadata": {},
   "source": [
    "This operation works by going to the common ancestor of the two branches (the one you’re on and the one you’re rebasing onto), getting the diff introduced by each commit of the branch you’re on, saving those diffs to temporary files, resetting the current branch to the same commit as the branch you are rebasing onto, and finally applying each change in turn."
   ]
  },
  {
   "cell_type": "markdown",
   "id": "68113e3a",
   "metadata": {},
   "source": [
    "At this point, you can go back to the master branch and do a fast-forward merge."
   ]
  },
  {
   "cell_type": "code",
   "execution_count": null,
   "id": "9cbcfec5",
   "metadata": {},
   "outputs": [],
   "source": [
    "$ git checkout master\n",
    "$ git merge experiment"
   ]
  },
  {
   "cell_type": "markdown",
   "id": "2d595b27",
   "metadata": {},
   "source": [
    "# Create a new repo under project-3 folder"
   ]
  },
  {
   "cell_type": "code",
   "execution_count": null,
   "id": "5cae5a0b",
   "metadata": {},
   "outputs": [],
   "source": [
    "git init"
   ]
  },
  {
   "cell_type": "markdown",
   "id": "3efe2ea3",
   "metadata": {},
   "source": [
    "# create file named file1.txt"
   ]
  },
  {
   "cell_type": "code",
   "execution_count": null,
   "id": "d3e02a77",
   "metadata": {},
   "outputs": [],
   "source": [
    "touch file1.txt"
   ]
  },
  {
   "cell_type": "markdown",
   "id": "db6ea4bd",
   "metadata": {},
   "source": [
    "# change the file"
   ]
  },
  {
   "cell_type": "code",
   "execution_count": null,
   "id": "ff77817f",
   "metadata": {},
   "outputs": [],
   "source": [
    "vim file1.txt"
   ]
  },
  {
   "cell_type": "markdown",
   "id": "fcb8d89b",
   "metadata": {},
   "source": [
    "# stage the file"
   ]
  },
  {
   "cell_type": "code",
   "execution_count": null,
   "id": "046af8f4",
   "metadata": {},
   "outputs": [],
   "source": [
    "git add ."
   ]
  },
  {
   "cell_type": "markdown",
   "id": "80896790",
   "metadata": {},
   "source": [
    "# commit the file to your repo"
   ]
  },
  {
   "cell_type": "code",
   "execution_count": null,
   "id": "6c5b7acd",
   "metadata": {},
   "outputs": [],
   "source": [
    "git commit -m \"message\""
   ]
  },
  {
   "cell_type": "markdown",
   "id": "ff851cc2",
   "metadata": {},
   "source": [
    "# delete the file1.text"
   ]
  },
  {
   "cell_type": "code",
   "execution_count": null,
   "id": "5eede13c",
   "metadata": {},
   "outputs": [],
   "source": [
    "rm file1.txt"
   ]
  },
  {
   "cell_type": "markdown",
   "id": "ead37b88",
   "metadata": {},
   "source": [
    "# rename file2.txt >>file3.txt"
   ]
  },
  {
   "cell_type": "code",
   "execution_count": null,
   "id": "c22ecf90",
   "metadata": {},
   "outputs": [],
   "source": [
    "mv file2.txt file3.txt"
   ]
  },
  {
   "cell_type": "markdown",
   "id": "950c8cac",
   "metadata": {},
   "source": [
    "# create a new branch\n",
    "Any commits you make will be made on the branch you’re currently “checked out” to. Use git status to see which branch that is."
   ]
  },
  {
   "cell_type": "code",
   "execution_count": null,
   "id": "179d1c2d",
   "metadata": {},
   "outputs": [],
   "source": [
    "git branch Branch name"
   ]
  },
  {
   "cell_type": "markdown",
   "id": "67286e63",
   "metadata": {},
   "source": [
    "# switch to a branch"
   ]
  },
  {
   "cell_type": "code",
   "execution_count": null,
   "id": "d7181381",
   "metadata": {},
   "outputs": [],
   "source": [
    "git checkout Branch name"
   ]
  },
  {
   "cell_type": "markdown",
   "id": "3d3b8bf8",
   "metadata": {},
   "source": [
    "# create a new branch and switch to that branch"
   ]
  },
  {
   "cell_type": "code",
   "execution_count": null,
   "id": "31c04557",
   "metadata": {},
   "outputs": [],
   "source": [
    "git checkout -b Branch name"
   ]
  },
  {
   "cell_type": "markdown",
   "id": "dcf0ff7c",
   "metadata": {},
   "source": [
    "# delete a local branch"
   ]
  },
  {
   "cell_type": "code",
   "execution_count": null,
   "id": "7e12223a",
   "metadata": {},
   "outputs": [],
   "source": [
    "git branch -d Branch name"
   ]
  },
  {
   "cell_type": "code",
   "execution_count": null,
   "id": "8c890413",
   "metadata": {},
   "outputs": [],
   "source": [
    "git branch -D Branch name"
   ]
  },
  {
   "cell_type": "markdown",
   "id": "44901285",
   "metadata": {},
   "source": [
    "# merge a branch\n",
    "Combines the specified branch’s history into the current branch. This is usually done in pull requests, but is an important Git operation."
   ]
  },
  {
   "cell_type": "code",
   "execution_count": null,
   "id": "b9406054",
   "metadata": {},
   "outputs": [],
   "source": [
    "git merge Branch name"
   ]
  },
  {
   "cell_type": "markdown",
   "id": "441b6def",
   "metadata": {},
   "source": [
    "# connecting your local with remote"
   ]
  },
  {
   "cell_type": "raw",
   "id": "2cae9044",
   "metadata": {},
   "source": [
    "link the local repository to an empty GitHub repository using the following command:"
   ]
  },
  {
   "cell_type": "raw",
   "id": "11f38a58",
   "metadata": {},
   "source": [
    "2 yöntem var: 1. local repository oluşturup bunu remote repository(GitHub) ile bağlamak.Bu olay her iki repositonun branch name'leri farklı olabilme ihtimalinekarşı sıkıntılı bir durumdur.  2. Remote repository(gitHub)'da dosya oluşturup local repoya clone etmek. Bu yöntem tercih edilmeli. Bu yöntem uygulandığında git repository otomatikman oluşur. Ayrıyeten manuel olarka olarak tekrar oluşturmaya gerek yoktur."
   ]
  },
  {
   "cell_type": "code",
   "execution_count": null,
   "id": "148c0e05",
   "metadata": {},
   "outputs": [],
   "source": [
    "git remote add origin Repo address"
   ]
  },
  {
   "cell_type": "code",
   "execution_count": null,
   "id": "f18e275b",
   "metadata": {},
   "outputs": [],
   "source": [
    "origin = alias for your repo address"
   ]
  },
  {
   "cell_type": "markdown",
   "id": "6cecb0e9",
   "metadata": {},
   "source": [
    "# first push"
   ]
  },
  {
   "cell_type": "code",
   "execution_count": null,
   "id": "aa9ca3ab",
   "metadata": {},
   "outputs": [],
   "source": [
    "git push -u origin master"
   ]
  },
  {
   "cell_type": "markdown",
   "id": "6b6ef02e",
   "metadata": {},
   "source": [
    "# remove remote origin"
   ]
  },
  {
   "cell_type": "code",
   "execution_count": null,
   "id": "2a5483f1",
   "metadata": {},
   "outputs": [],
   "source": [
    "git remote rm origin"
   ]
  },
  {
   "cell_type": "markdown",
   "id": "9cc2253a",
   "metadata": {},
   "source": [
    "# Copying a repository from remote server to your local repository"
   ]
  },
  {
   "cell_type": "code",
   "execution_count": null,
   "id": "24b5db92",
   "metadata": {},
   "outputs": [],
   "source": [
    "cloning"
   ]
  },
  {
   "cell_type": "markdown",
   "id": "c573ae3a",
   "metadata": {},
   "source": [
    "# downloading commits from others"
   ]
  },
  {
   "cell_type": "raw",
   "id": "48ee8daf",
   "metadata": {},
   "source": [
    "Synchronize your local repository with the remote repository on GitHub.com."
   ]
  },
  {
   "cell_type": "markdown",
   "id": "18ec5ddd",
   "metadata": {},
   "source": [
    "$ git fetch"
   ]
  },
  {
   "cell_type": "markdown",
   "id": "68d11c58",
   "metadata": {},
   "source": [
    "# see the difference between local repository(.git) and remote repository(GitHub)"
   ]
  },
  {
   "cell_type": "code",
   "execution_count": null,
   "id": "4ab74e3e",
   "metadata": {},
   "outputs": [],
   "source": [
    "git diff main origin/main"
   ]
  },
  {
   "cell_type": "markdown",
   "id": "5ca516f9",
   "metadata": {},
   "source": [
    "# Combines remote tracking branches into current local branch"
   ]
  },
  {
   "cell_type": "markdown",
   "id": "7df56652",
   "metadata": {},
   "source": [
    "$ git merge"
   ]
  },
  {
   "cell_type": "markdown",
   "id": "0446ca66",
   "metadata": {},
   "source": [
    "# Updates your current local working branch with all new commits from the corresponding remote branch on GitHub. git pull is a combination of git fetch and git merge"
   ]
  },
  {
   "cell_type": "code",
   "execution_count": null,
   "id": "4868a8d2",
   "metadata": {},
   "outputs": [],
   "source": [
    "$ git pull = (fetce+merge)"
   ]
  },
  {
   "cell_type": "code",
   "execution_count": null,
   "id": "a2b0031b",
   "metadata": {},
   "outputs": [],
   "source": [
    "hem local repository(.git) hem de working directory de aynı andadeğişiklik yapar."
   ]
  },
  {
   "cell_type": "markdown",
   "id": "b183c0ab",
   "metadata": {},
   "source": [
    "# uploading your commits(local changes) to remote(GitHub)"
   ]
  },
  {
   "cell_type": "code",
   "execution_count": null,
   "id": "7f1b157f",
   "metadata": {},
   "outputs": [],
   "source": [
    "$ git push\n"
   ]
  },
  {
   "cell_type": "markdown",
   "id": "875eb063",
   "metadata": {},
   "source": [
    "# copying from remote to remote"
   ]
  },
  {
   "cell_type": "code",
   "execution_count": null,
   "id": "60a2e396",
   "metadata": {},
   "outputs": [],
   "source": [
    "fork"
   ]
  },
  {
   "cell_type": "markdown",
   "id": "d8966cef",
   "metadata": {},
   "source": [
    "# Which command updates your local repo and enables you to see the changes made on the remote repo?"
   ]
  },
  {
   "cell_type": "code",
   "execution_count": null,
   "id": "511a8b13",
   "metadata": {},
   "outputs": [],
   "source": [
    "git pull origin master"
   ]
  },
  {
   "cell_type": "markdown",
   "id": "d4f65210",
   "metadata": {},
   "source": [
    "# Configure tooling"
   ]
  },
  {
   "cell_type": "code",
   "execution_count": null,
   "id": "aaeb52c0",
   "metadata": {},
   "outputs": [],
   "source": [
    "Configure user information for all local repositories\n",
    "\n",
    "$ git config --global user.name \"[name]\"\n",
    "\n",
    "Sets the name you want attached to your commit transactions\n",
    "\n",
    "$ git config --global user.email \"[email address]\"\n",
    "\n",
    "Sets the email you want attached to your commit transactions\n",
    "\n",
    "$ git config --global color.ui auto\n",
    "\n",
    "Enables helpful colorization of command line output"
   ]
  },
  {
   "cell_type": "markdown",
   "id": "0ec8fc45",
   "metadata": {},
   "source": [
    "# Make changes"
   ]
  },
  {
   "cell_type": "code",
   "execution_count": null,
   "id": "dc9045d6",
   "metadata": {},
   "outputs": [],
   "source": [
    "$ git log --follow [file]\n",
    "\n",
    "Lists version history for a file, beyond renames (works only for a single file)"
   ]
  },
  {
   "cell_type": "code",
   "execution_count": null,
   "id": "caf6aa05",
   "metadata": {},
   "outputs": [],
   "source": [
    "$ git diff [first-branch]...[second-branch]\n",
    "\n",
    "Shows content differences between two branches"
   ]
  },
  {
   "cell_type": "code",
   "execution_count": null,
   "id": "b1b77672",
   "metadata": {},
   "outputs": [],
   "source": [
    "$ git show [commit]\n",
    "\n",
    "Outputs metadata and content changes of the specified commit"
   ]
  },
  {
   "cell_type": "code",
   "execution_count": null,
   "id": "3e04edfe",
   "metadata": {},
   "outputs": [],
   "source": [
    "$ git commit -m \"[descriptive message]\"\n",
    "\n",
    "Records file snapshots permanently in version history"
   ]
  },
  {
   "cell_type": "markdown",
   "id": "b2811e45",
   "metadata": {},
   "source": [
    "# Redo commits"
   ]
  },
  {
   "cell_type": "code",
   "execution_count": null,
   "id": "0e2dddaf",
   "metadata": {},
   "outputs": [],
   "source": [
    "$ git reset [commit]\n",
    "\n",
    "Undoes all commits after [commit], preserving changes locally"
   ]
  },
  {
   "cell_type": "code",
   "execution_count": null,
   "id": "ad3e6f3a",
   "metadata": {},
   "outputs": [],
   "source": [
    "$ git reset --hard [commit]\n",
    "\n",
    "Discards all history and changes back to the specified commit"
   ]
  },
  {
   "cell_type": "markdown",
   "id": "3248b25c",
   "metadata": {},
   "source": [
    "# The .gitignore file\n"
   ]
  },
  {
   "cell_type": "raw",
   "id": "0f897a5a",
   "metadata": {},
   "source": [
    "Sometimes it may be a good idea to exclude files from being tracked with Git."
   ]
  },
  {
   "cell_type": "markdown",
   "id": "43540e64",
   "metadata": {},
   "source": [
    "# Glossary"
   ]
  },
  {
   "cell_type": "markdown",
   "id": "abe3c7ed",
   "metadata": {},
   "source": [
    "git: an open source, distributed version-control system\n",
    "GitHub: a platform for hosting and collaborating on Git repositories\n",
    "commit: a Git object, a snapshot of your entire repository compressed into a SHA\n",
    "branch: a lightweight movable pointer to a commit\n",
    "clone: a local version of a repository, including all commits and branches\n",
    "remote: a common repository on GitHub that all team members use to exchange their changes\n",
    "fork: a copy of a repository on GitHub owned by a different user\n",
    "pull request: a place to compare and discuss the differences introduced on a branch with reviews, comments, integrated tests, and more\n",
    "HEAD: representing your current working directory, the HEAD pointer can be moved to different branches, tags, or commits when using git checkout"
   ]
  },
  {
   "cell_type": "markdown",
   "id": "9ea98fe9",
   "metadata": {},
   "source": [
    "# Git Conflict"
   ]
  },
  {
   "cell_type": "raw",
   "id": "7d19a389",
   "metadata": {},
   "source": [
    "conflict 2 kişinin aynı dosya üzerinde aynı satırda yaptıkları değişiklikleri birleştirmek istediğinde ortaya çıkar. conflicti gidermek için:\n",
    "git add .\n",
    "git commit -m \"conflict giderildi\"\n",
    "komutları yazılır.\n"
   ]
  },
  {
   "cell_type": "markdown",
   "id": "0836dff7",
   "metadata": {},
   "source": [
    "# dosyayı doğrudan commit etme"
   ]
  },
  {
   "cell_type": "code",
   "execution_count": null,
   "id": "5fe9ad2b",
   "metadata": {},
   "outputs": [],
   "source": [
    "git commit -am \"satır eklendi\""
   ]
  },
  {
   "cell_type": "markdown",
   "id": "4bf88f89",
   "metadata": {},
   "source": [
    "# merge"
   ]
  },
  {
   "cell_type": "code",
   "execution_count": null,
   "id": "9cd58947",
   "metadata": {},
   "outputs": [],
   "source": [
    "master üzerinde merge olabileceği gibi farklı dallar da birleştirilebilir."
   ]
  },
  {
   "cell_type": "markdown",
   "id": "5a27d757",
   "metadata": {},
   "source": [
    "# ?????"
   ]
  },
  {
   "cell_type": "code",
   "execution_count": null,
   "id": "6a07b649",
   "metadata": {},
   "outputs": [],
   "source": [
    "git pull upstream main"
   ]
  },
  {
   "cell_type": "code",
   "execution_count": null,
   "id": "0ecf9413",
   "metadata": {},
   "outputs": [],
   "source": [
    "Git push --set-upstream origin new_feature"
   ]
  },
  {
   "cell_type": "markdown",
   "id": "95ed7f07",
   "metadata": {},
   "source": [
    "# https://www.atlassian.com/git/tutorials- SONRA BUNU ÇALIŞ"
   ]
  }
 ],
 "metadata": {
  "kernelspec": {
   "display_name": "Python 3",
   "language": "python",
   "name": "python3"
  },
  "language_info": {
   "codemirror_mode": {
    "name": "ipython",
    "version": 3
   },
   "file_extension": ".py",
   "mimetype": "text/x-python",
   "name": "python",
   "nbconvert_exporter": "python",
   "pygments_lexer": "ipython3",
   "version": "3.8.8"
  }
 },
 "nbformat": 4,
 "nbformat_minor": 5
}
