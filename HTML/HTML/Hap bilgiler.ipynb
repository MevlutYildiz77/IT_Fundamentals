{
 "cells": [
  {
   "cell_type": "markdown",
   "id": "90351ba6",
   "metadata": {},
   "source": [
    "# İndirilmesi gereken dosyalar"
   ]
  },
  {
   "cell_type": "code",
   "execution_count": null,
   "id": "45b16aa9",
   "metadata": {},
   "outputs": [],
   "source": [
    "Auto close tag, html snippet , beautify, live server, auto rename tag\n",
    "Code Spell Checker, Indent Rainbow, Prettier, Tabnine, axe Accessibility Linter"
   ]
  },
  {
   "cell_type": "markdown",
   "id": "3ef83b39",
   "metadata": {},
   "source": [
    "# doctype'i otomatik açmak"
   ]
  },
  {
   "cell_type": "code",
   "execution_count": null,
   "id": "4bd27a61",
   "metadata": {},
   "outputs": [],
   "source": [
    "sayfanın içinde !+Tab"
   ]
  },
  {
   "cell_type": "markdown",
   "id": "64d47a1c",
   "metadata": {},
   "source": [
    "# commandlari açma komutu"
   ]
  },
  {
   "cell_type": "code",
   "execution_count": null,
   "id": "fba5ffa6",
   "metadata": {},
   "outputs": [],
   "source": [
    "ctrl+shift+p"
   ]
  },
  {
   "cell_type": "markdown",
   "id": "58fd529c",
   "metadata": {},
   "source": [
    "# kopyalayıp yapıştırma"
   ]
  },
  {
   "cell_type": "code",
   "execution_count": null,
   "id": "fc2bda45",
   "metadata": {},
   "outputs": [],
   "source": [
    "Alt+Shift+ aşağı tuşu"
   ]
  },
  {
   "cell_type": "markdown",
   "id": "bd8940f4",
   "metadata": {},
   "source": [
    "# aynı anda birden fazla satıra yazma"
   ]
  },
  {
   "cell_type": "code",
   "execution_count": null,
   "id": "4ee04b9f",
   "metadata": {},
   "outputs": [],
   "source": [
    "ctrl+d başlangıç metni + ctrl+d bitiş metni "
   ]
  },
  {
   "cell_type": "markdown",
   "id": "d8c064c2",
   "metadata": {},
   "source": [
    "# serveri çalıştırma"
   ]
  },
  {
   "cell_type": "code",
   "execution_count": null,
   "id": "f57a5299",
   "metadata": {},
   "outputs": [],
   "source": [
    "ALT+L+O veya dosyanın üzerine sağ tıklayıp \"open with live server\" "
   ]
  },
  {
   "cell_type": "markdown",
   "id": "c160df55",
   "metadata": {},
   "source": [
    "# otomatik cümle tamamlamama"
   ]
  },
  {
   "cell_type": "code",
   "execution_count": null,
   "id": "75869070",
   "metadata": {},
   "outputs": [],
   "source": [
    "<p>lorem + tab tuşu </>"
   ]
  },
  {
   "cell_type": "code",
   "execution_count": null,
   "id": "49d03de9",
   "metadata": {},
   "outputs": [],
   "source": [
    "lorem100 yazarsan 100 kelime yazar"
   ]
  },
  {
   "cell_type": "code",
   "execution_count": null,
   "id": "e247fedd",
   "metadata": {},
   "outputs": [],
   "source": [
    "<hr> çizgi koyar"
   ]
  },
  {
   "cell_type": "markdown",
   "id": "e228d0d6",
   "metadata": {},
   "source": [
    "# yazının taşmaması için"
   ]
  },
  {
   "cell_type": "code",
   "execution_count": null,
   "id": "afad40db",
   "metadata": {},
   "outputs": [],
   "source": [
    "alt + z"
   ]
  },
  {
   "cell_type": "code",
   "execution_count": 1,
   "id": "9f1d71ae",
   "metadata": {},
   "outputs": [
    {
     "ename": "SyntaxError",
     "evalue": "invalid syntax (<ipython-input-1-5e9a7737ccb9>, line 1)",
     "output_type": "error",
     "traceback": [
      "\u001b[1;36m  File \u001b[1;32m\"<ipython-input-1-5e9a7737ccb9>\"\u001b[1;36m, line \u001b[1;32m1\u001b[0m\n\u001b[1;33m    sup = yazının üstüne yazar\u001b[0m\n\u001b[1;37m                  ^\u001b[0m\n\u001b[1;31mSyntaxError\u001b[0m\u001b[1;31m:\u001b[0m invalid syntax\n"
     ]
    }
   ],
   "source": [
    "sup = yazının üstüne yazar"
   ]
  },
  {
   "cell_type": "code",
   "execution_count": null,
   "id": "1f91cdfc",
   "metadata": {},
   "outputs": [],
   "source": [
    "sub= indis oluşturur"
   ]
  },
  {
   "cell_type": "code",
   "execution_count": null,
   "id": "ea045cff",
   "metadata": {},
   "outputs": [],
   "source": [
    "<br> = <strong> : kalınlaşyırır yazıyı.\n",
    "    görme engelliler için <strong> "
   ]
  },
  {
   "cell_type": "markdown",
   "id": "3256d2f4",
   "metadata": {},
   "source": [
    "# Web tasarımı için siteler"
   ]
  },
  {
   "cell_type": "code",
   "execution_count": null,
   "id": "ab938b31",
   "metadata": {},
   "outputs": [],
   "source": [
    "pigma\n",
    "you I you x ()"
   ]
  },
  {
   "cell_type": "code",
   "execution_count": null,
   "id": "24fe3515",
   "metadata": {},
   "outputs": [],
   "source": []
  },
  {
   "cell_type": "code",
   "execution_count": null,
   "id": "25148f14",
   "metadata": {},
   "outputs": [],
   "source": [
    "li*4 tab'a bas"
   ]
  },
  {
   "cell_type": "code",
   "execution_count": null,
   "id": "2bfd2077",
   "metadata": {},
   "outputs": [],
   "source": [
    "ol ile birikte : ol>li*5"
   ]
  },
  {
   "cell_type": "code",
   "execution_count": null,
   "id": "8c034125",
   "metadata": {},
   "outputs": [],
   "source": []
  }
 ],
 "metadata": {
  "kernelspec": {
   "display_name": "Python 3",
   "language": "python",
   "name": "python3"
  },
  "language_info": {
   "codemirror_mode": {
    "name": "ipython",
    "version": 3
   },
   "file_extension": ".py",
   "mimetype": "text/x-python",
   "name": "python",
   "nbconvert_exporter": "python",
   "pygments_lexer": "ipython3",
   "version": "3.8.8"
  }
 },
 "nbformat": 4,
 "nbformat_minor": 5
}
