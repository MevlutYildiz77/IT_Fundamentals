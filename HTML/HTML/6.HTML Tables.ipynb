{
 "cells": [
  {
   "cell_type": "markdown",
   "id": "47b6f510",
   "metadata": {},
   "source": [
    "# Basics of Table"
   ]
  },
  {
   "cell_type": "code",
   "execution_count": null,
   "id": "c9bf6028",
   "metadata": {},
   "outputs": [],
   "source": [
    "***In order to create a table in HTML, we use <table> tag.***\n",
    "***The <tr> tag is used to define each table row.***\n",
    "***The <th> tag defines a table header.***\n",
    "A table cell is defined with the <td> tag."
   ]
  },
  {
   "cell_type": "code",
   "execution_count": null,
   "id": "1cd85843",
   "metadata": {},
   "outputs": [],
   "source": [
    "<!DOCTYPE html>\n",
    "<html>\n",
    "   <body>\n",
    "      <table>\n",
    "         <tr>\n",
    "            <th>Day</th>\n",
    "            <th>Lesson</th>\n",
    "         </tr>\n",
    "         <tr>\n",
    "            <td>Monday</td>\n",
    "            <td>Java</td>\n",
    "         </tr>\n",
    "         <tr>\n",
    "            <td>Tuesday</td>\n",
    "            <td>HTML</td>\n",
    "         </tr>\n",
    "         <tr>\n",
    "            <td>Wednesday</td>\n",
    "            <td>CSS</td>\n",
    "         </tr>\n",
    "      </table>\n",
    "   </body>\n",
    "</html>"
   ]
  },
  {
   "cell_type": "markdown",
   "id": "21948671",
   "metadata": {},
   "source": [
    "# Table Border"
   ]
  },
  {
   "cell_type": "code",
   "execution_count": null,
   "id": "7d90cbef",
   "metadata": {},
   "outputs": [],
   "source": [
    "We can ***add border to table with border attribute*** in table tag like example below.\n",
    "<table border=\"number\">"
   ]
  },
  {
   "cell_type": "code",
   "execution_count": null,
   "id": "002af1ed",
   "metadata": {},
   "outputs": [],
   "source": [
    "Avoid:\n",
    "The border attribute is not supported in HTML5. Use CSS instead."
   ]
  },
  {
   "cell_type": "code",
   "execution_count": null,
   "id": "50b3e1b3",
   "metadata": {},
   "outputs": [],
   "source": [
    "<!DOCTYPE html>\n",
    "<html>\n",
    "   <body>\n",
    "      <h1>Course Program</h1>\n",
    "      <table border=\"1\">\n",
    "         <tr>\n",
    "            <th>Day</th>\n",
    "            <th>Lesson</th>\n",
    "         </tr>\n",
    "         <tr>\n",
    "            <td>Monday</td>\n",
    "            <td>Java</td>\n",
    "         </tr>\n",
    "         <tr>\n",
    "            <td>Tuesday</td>\n",
    "            <td>HTML</td>\n",
    "         </tr>\n",
    "         <tr>\n",
    "            <td>Wednesday</td>\n",
    "            <td>CSS</td>\n",
    "         </tr>\n",
    "      </table>\n",
    "   </body>\n",
    "</html>"
   ]
  },
  {
   "cell_type": "code",
   "execution_count": null,
   "id": "08d77543",
   "metadata": {},
   "outputs": [],
   "source": [
    "Course Program\n",
    "Day\tLesson\n",
    "Monday\tJava\n",
    "Tuesday\tHTML\n",
    "Wednesday\tCSS"
   ]
  },
  {
   "cell_type": "markdown",
   "id": "7edab43b",
   "metadata": {},
   "source": [
    "# Colspan Attribute"
   ]
  },
  {
   "cell_type": "code",
   "execution_count": null,
   "id": "74bb7292",
   "metadata": {},
   "outputs": [],
   "source": [
    "We can ***span two or more columns*** by using the colspan attribute like example below.\n",
    "< td colspan=\"2\" >Java< /td >"
   ]
  },
  {
   "cell_type": "code",
   "execution_count": null,
   "id": "8dd5f77f",
   "metadata": {},
   "outputs": [],
   "source": [
    "<!DOCTYPE html>\n",
    "<html>\n",
    "   <body>\n",
    "      <h1>Course Program</h1>\n",
    "      <table border=\"1\">\n",
    "         <tr>\n",
    "            <th>Day</th>\n",
    "            <th>Lesson-1</th>\n",
    "            <th>Lesson-2</th>\n",
    "         </tr>\n",
    "         <tr>\n",
    "            <td>Monday</td>\n",
    "            <td colspan=\"2\">Java</td> \n",
    "         </tr>\n",
    "         <tr>\n",
    "            <td>Tuesday</td>\n",
    "            <td>Maven</td>\n",
    "            <td>Gradle</td>\n",
    "         </tr>\n",
    "         <tr>\n",
    "            <td>Wednesday</td>\n",
    "            <td>HTML</td>\n",
    "            <td>CSS</td>\n",
    "         </tr>\n",
    "      </table>\n",
    "   </body>\n",
    "</html>"
   ]
  },
  {
   "cell_type": "code",
   "execution_count": null,
   "id": "805697ef",
   "metadata": {},
   "outputs": [],
   "source": [
    "Course Program\n",
    "Day\tLesson-1\tLesson-2\n",
    "Monday\tJava\n",
    "Tuesday\tMaven\tGradle\n",
    "Wednesday\tHTML\tCSS"
   ]
  },
  {
   "cell_type": "markdown",
   "id": "2d754e44",
   "metadata": {},
   "source": [
    "# Rowspan Attribute"
   ]
  },
  {
   "cell_type": "code",
   "execution_count": null,
   "id": "1e9494f9",
   "metadata": {},
   "outputs": [],
   "source": [
    "We can span two or more rows by using the rowspan attribute"
   ]
  },
  {
   "cell_type": "code",
   "execution_count": null,
   "id": "8ce17eec",
   "metadata": {},
   "outputs": [],
   "source": [
    "< td rowspan=\"2\" >Java< /td >"
   ]
  },
  {
   "cell_type": "code",
   "execution_count": null,
   "id": "a53d27ce",
   "metadata": {},
   "outputs": [],
   "source": [
    "<!DOCTYPE html>\n",
    "<html>\n",
    "   <body>\n",
    "      <h1>Course Program</h1>\n",
    "      <table border=\"1\">\n",
    "         <tr>\n",
    "            <th>Day</th>\n",
    "            <th>Lesson-1</th>\n",
    "            <th>Lesson-2</th>\n",
    "         </tr>\n",
    "         <tr>\n",
    "            <td>Monday</td>\n",
    "            <td>Java</td> \n",
    "            <td>Git</td>\n",
    "         </tr>\n",
    "         <tr>\n",
    "            <td rowspan=\"2\">Tuesday</td>\n",
    "            <td>Maven</td>\n",
    "            <td>Gradle</td>\n",
    "         </tr>\n",
    "         <tr>\n",
    "            <td>HTML</td>\n",
    "            <td>CSS</td>\n",
    "         </tr>\n",
    "      </table>\n",
    "   </body>\n",
    "</html>"
   ]
  },
  {
   "cell_type": "code",
   "execution_count": null,
   "id": "bd8242e8",
   "metadata": {},
   "outputs": [],
   "source": [
    "Course Program\n",
    "Day\tLesson-1\tLesson-2\n",
    "Monday\tJava\tGit\n",
    "Tuesday\tMaven\tGradle\n",
    "        HTML\tCSS"
   ]
  },
  {
   "cell_type": "markdown",
   "id": "826d02a3",
   "metadata": {},
   "source": [
    "# Align Attribute"
   ]
  },
  {
   "cell_type": "code",
   "execution_count": null,
   "id": "8bb094d4",
   "metadata": {},
   "outputs": [],
   "source": [
    "To ***change table or cell position***, we can use the align attribute inside <table> tag or <td> tag.\n",
    "<td align=\"center\">java</td >"
   ]
  },
  {
   "cell_type": "code",
   "execution_count": null,
   "id": "4a73ab4b",
   "metadata": {},
   "outputs": [],
   "source": [
    "<!DOCTYPE html>\n",
    "<html>\n",
    "   <body>\n",
    "      <h1>Course Program</h1>\n",
    "      <table border=\"1\">\n",
    "         <tr>\n",
    "            <th>Day</th>\n",
    "            <th>Lesson-1</th>\n",
    "            <th>Lesson-2</th>\n",
    "         </tr>\n",
    "         <tr>\n",
    "            <td>Monday</td>\n",
    "            <td align=\"center\" colspan=\"2\" >Java</td> \n",
    "         </tr>\n",
    "         <tr>\n",
    "            <td>Tuesday</td>\n",
    "            <td>Maven</td>\n",
    "            <td>Gradle</td>\n",
    "         </tr>\n",
    "         <tr>\n",
    "            <td>Wednesday</td>\n",
    "            <td>HTML</td>\n",
    "            <td>CSS</td>\n",
    "         </tr>\n",
    "      </table>\n",
    "   </body>\n",
    "</html>"
   ]
  },
  {
   "cell_type": "code",
   "execution_count": null,
   "id": "a3fe45b3",
   "metadata": {},
   "outputs": [],
   "source": [
    "Course Program\n",
    "Day \t     Lesson-1  \t  Lesson-2\n",
    "Monday\t            Java\n",
    "Tuesday \t Maven  \t   Gradle\n",
    "Wednesday\t HTML   \t   CSS"
   ]
  }
 ],
 "metadata": {
  "kernelspec": {
   "display_name": "Python 3",
   "language": "python",
   "name": "python3"
  },
  "language_info": {
   "codemirror_mode": {
    "name": "ipython",
    "version": 3
   },
   "file_extension": ".py",
   "mimetype": "text/x-python",
   "name": "python",
   "nbconvert_exporter": "python",
   "pygments_lexer": "ipython3",
   "version": "3.8.8"
  }
 },
 "nbformat": 4,
 "nbformat_minor": 5
}
