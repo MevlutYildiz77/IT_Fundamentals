{
 "cells": [
  {
   "cell_type": "markdown",
   "id": "52ac74c4",
   "metadata": {},
   "source": [
    "# HTML Headings"
   ]
  },
  {
   "cell_type": "markdown",
   "id": "c61bd74b",
   "metadata": {},
   "source": [
    "Headings are used to describe content, like the title of an article. HTML has **six levels** of headings, which are graded according to importance. ***Headings are defined with the <h1> to <h6> tags.*** **<h1> defines the most important heading.** <h6> defines the least important heading."
   ]
  },
  {
   "cell_type": "code",
   "execution_count": null,
   "id": "fad0caa7",
   "metadata": {},
   "outputs": [],
   "source": [
    "<!DOCTYPE html>\n",
    "<html>\n",
    "    <body>\n",
    "        <h1>The most important heading</h1>\n",
    "        <h2>This is heading 2</h2>\n",
    "        <h3>This is heading 3</h3>\n",
    "        <h4>This is heading 4</h4>\n",
    "        <h5>This is heading 5</h5>\n",
    "        <h6>The least important heading</h6>\n",
    "    </body>\n",
    "</html>"
   ]
  },
  {
   "cell_type": "markdown",
   "id": "1e8cf094",
   "metadata": {},
   "source": [
    "# HTML Paragraphs"
   ]
  },
  {
   "cell_type": "markdown",
   "id": "78be6332",
   "metadata": {},
   "source": [
    "**The HTML <p> element stands for paragraph.\n",
    "Paragraph element contains blocks of text."
   ]
  },
  {
   "cell_type": "code",
   "execution_count": null,
   "id": "86c7a9bb",
   "metadata": {},
   "outputs": [],
   "source": [
    "<!DOCTYPE html>\n",
    "<html>\n",
    "    <body>\n",
    "        <p>This is first paragraph.</p>\n",
    "        <p>This is second paragraph.</p>\n",
    "    </body>\n",
    "</html>"
   ]
  },
  {
   "cell_type": "markdown",
   "id": "a6f0f692",
   "metadata": {},
   "source": [
    "# Horizontal Lines: extra çalış"
   ]
  },
  {
   "cell_type": "code",
   "execution_count": null,
   "id": "2739c029",
   "metadata": {},
   "outputs": [],
   "source": [
    "The <hr> tag creates a horizontal line.\n",
    "\n",
    "The <hr> tag is displayed as a horizontal rule.\n",
    "\n",
    "???***The <hr> tag is used to ***separate content on a HTML page.***"
   ]
  },
  {
   "cell_type": "code",
   "execution_count": null,
   "id": "6bfc278a",
   "metadata": {},
   "outputs": [],
   "source": [
    "<!DOCTYPE html>\n",
    "<html>\n",
    "<body>\n",
    "  <h1>This is heading</h1>\n",
    "  <p>Horizantal Line is below. </p>\n",
    "  <hr>\n",
    "  <p>Horizantal Line is above. </p>\n",
    "</body>\n",
    "</html>"
   ]
  },
  {
   "cell_type": "markdown",
   "id": "c0557787",
   "metadata": {},
   "source": [
    "# HTML Line Breaks"
   ]
  },
  {
   "cell_type": "markdown",
   "id": "28806f27",
   "metadata": {},
   "source": [
    "**The HTML <br> tag stands for a **line break**.\n",
    "***The <br> tag is used to add a single line break.***\n",
    "***The <br> tag has no end tag.***"
   ]
  },
  {
   "cell_type": "code",
   "execution_count": null,
   "id": "1280f75a",
   "metadata": {},
   "outputs": [],
   "source": [
    "<!DOCTYPE html>\n",
    "<html>\n",
    "<body>\n",
    "<p>This is a paragraph </p>\n",
    "<p>This is <br> a new line.</p>\n",
    "</body>\n",
    "</html>"
   ]
  },
  {
   "cell_type": "markdown",
   "id": "51b48c23",
   "metadata": {},
   "source": [
    "# HTML Comments"
   ]
  },
  {
   "cell_type": "code",
   "execution_count": null,
   "id": "f726c68a",
   "metadata": {},
   "outputs": [],
   "source": [
    "Comments can add the text between these characters.\n",
    "<!-- This is a comment-->\n",
    "\n",
    "The browser does not display comments, but with comments, we can place warnings, descriptions and other notes.\n",
    "\n",
    "Comments are also imported for debugging HTML. ***We can use comments for searching errors.***"
   ]
  },
  {
   "cell_type": "code",
   "execution_count": null,
   "id": "2ed5377a",
   "metadata": {},
   "outputs": [],
   "source": []
  },
  {
   "cell_type": "code",
   "execution_count": null,
   "id": "64ebe22c",
   "metadata": {},
   "outputs": [],
   "source": []
  },
  {
   "cell_type": "code",
   "execution_count": null,
   "id": "91f01059",
   "metadata": {},
   "outputs": [],
   "source": []
  }
 ],
 "metadata": {
  "kernelspec": {
   "display_name": "Python 3",
   "language": "python",
   "name": "python3"
  },
  "language_info": {
   "codemirror_mode": {
    "name": "ipython",
    "version": 3
   },
   "file_extension": ".py",
   "mimetype": "text/x-python",
   "name": "python",
   "nbconvert_exporter": "python",
   "pygments_lexer": "ipython3",
   "version": "3.8.8"
  }
 },
 "nbformat": 4,
 "nbformat_minor": 5
}
