{
 "cells": [
  {
   "cell_type": "markdown",
   "id": "50388b29",
   "metadata": {},
   "source": [
    "# The < a > Tag"
   ]
  },
  {
   "cell_type": "code",
   "execution_count": null,
   "id": "04d23dba",
   "metadata": {},
   "outputs": [],
   "source": [
    "One of the advantages of HTML , is the ability to link to other web pages.\n",
    "The <a> element and including text is used to ***define a link.***"
   ]
  },
  {
   "cell_type": "code",
   "execution_count": null,
   "id": "9c43f776",
   "metadata": {},
   "outputs": [],
   "source": [
    "<!DOCTYPE html>\n",
    "<html>\n",
    "   <body>\n",
    "      <h1>HTML Links</h1>\n",
    "      <a>Welcome clarusway</a>\n",
    "   </body>\n",
    "</html>"
   ]
  },
  {
   "cell_type": "markdown",
   "id": "2c43af92",
   "metadata": {},
   "source": [
    "# The href Attribute"
   ]
  },
  {
   "cell_type": "code",
   "execution_count": null,
   "id": "ad5658b5",
   "metadata": {},
   "outputs": [],
   "source": [
    "We need href attribute inside opening <a> tag to specify which page we want to link.\n",
    "The href attribute ***defines the address of the link.***"
   ]
  },
  {
   "cell_type": "code",
   "execution_count": null,
   "id": "90409c28",
   "metadata": {},
   "outputs": [],
   "source": [
    "<!DOCTYPE html>\n",
    "<html>\n",
    "   <body>\n",
    "      <h1>HTML Links</h1>\n",
    "      <a href=\"http://clarusway.com/\">Welcome clarusway</a>\n",
    "   </body>\n",
    "</html>"
   ]
  },
  {
   "cell_type": "markdown",
   "id": "9d6a3c8d",
   "metadata": {},
   "source": [
    "# The target Attribute"
   ]
  },
  {
   "cell_type": "code",
   "execution_count": null,
   "id": "7bcb5b0f",
   "metadata": {},
   "outputs": [],
   "source": [
    "The target attribute is used to ***specify how a link should open.***\n",
    "In order to ***open link in a new page, the target attribute requires a value of _blank.***\n",
    "We should add the target attribute inside opening <a> tag like href attribute."
   ]
  },
  {
   "cell_type": "code",
   "execution_count": null,
   "id": "343c09d6",
   "metadata": {},
   "outputs": [],
   "source": [
    "<!DOCTYPE html>\n",
    "<html>\n",
    "   <body>\n",
    "      <h1>HTML Links</h1>\n",
    "      <a href=\"http://clarusway.com/\" target=\"_blank\">Welcome clarusway</a>\n",
    "   </body>\n",
    "</html>"
   ]
  },
  {
   "cell_type": "markdown",
   "id": "ff400ce2",
   "metadata": {},
   "source": [
    "# Image as a Link"
   ]
  },
  {
   "cell_type": "code",
   "execution_count": null,
   "id": "1df0c45b",
   "metadata": {},
   "outputs": [],
   "source": [
    "We can use an image as a link in HTML.\n",
    "For this, it is enough to ***put an <img> tag between opening and closing <a> tag.***"
   ]
  },
  {
   "cell_type": "code",
   "execution_count": null,
   "id": "9228b017",
   "metadata": {},
   "outputs": [],
   "source": [
    "<!DOCTYPE html>\n",
    "<html>\n",
    "   <body>\n",
    "      <h1>HTML Links</h1>\n",
    "      <a href=\"http://clarusway.com/\" target=\"_blank\"><img src=\"https://drive.google.com/open?id=1u4ycHASa7sVNknCxXeca2dwD7l9Va0PK\" alt=\"A lighthouse\" width=\"50%\" height=\"auto\"></a>\n",
    "   </body>\n",
    "</html>"
   ]
  },
  {
   "cell_type": "code",
   "execution_count": null,
   "id": "3b62ab86",
   "metadata": {},
   "outputs": [],
   "source": []
  },
  {
   "cell_type": "code",
   "execution_count": null,
   "id": "2352f639",
   "metadata": {},
   "outputs": [],
   "source": []
  }
 ],
 "metadata": {
  "kernelspec": {
   "display_name": "Python 3",
   "language": "python",
   "name": "python3"
  },
  "language_info": {
   "codemirror_mode": {
    "name": "ipython",
    "version": 3
   },
   "file_extension": ".py",
   "mimetype": "text/x-python",
   "name": "python",
   "nbconvert_exporter": "python",
   "pygments_lexer": "ipython3",
   "version": "3.8.8"
  }
 },
 "nbformat": 4,
 "nbformat_minor": 5
}
