{
 "cells": [
  {
   "cell_type": "markdown",
   "id": "dd75df7b",
   "metadata": {},
   "source": [
    "# What is the HTML"
   ]
  },
  {
   "cell_type": "code",
   "execution_count": null,
   "id": "797d4c97",
   "metadata": {},
   "outputs": [],
   "source": [
    "***HTML stands for HyperText Markup Language.***\n",
    "A markup language defines the structure and presentation of raw text.\n",
    "\n",
    "A HyperText is text displayed on a computer or device that provides access to other text through links (hyperlinks).\n",
    "HTML is a markup language used to create documents on the web. It describes the structure and layout of a web page."
   ]
  },
  {
   "cell_type": "markdown",
   "id": "4238796b",
   "metadata": {},
   "source": [
    "# History of HTML"
   ]
  },
  {
   "cell_type": "code",
   "execution_count": null,
   "id": "3c20c036",
   "metadata": {},
   "outputs": [],
   "source": [
    "HTML was originally developed by Tim Berners-Lee while at CERN."
   ]
  },
  {
   "cell_type": "raw",
   "id": "bc6a279c",
   "metadata": {},
   "source": [
    "While working at CERN, he became frustrated at having to log on to different computers to find different information and thought that there must be a better way. He figured that there must be a way to hop from one set of information to another that's on different computers."
   ]
  },
  {
   "cell_type": "code",
   "execution_count": null,
   "id": "84a975ee",
   "metadata": {},
   "outputs": [],
   "source": [
    "Version\tYear\n",
    "HTML\t1991\n",
    "HTML 2.0\t1995\n",
    "HTML 3.2\t1997\n",
    "HTML 4.01\t1999\n",
    "XHTML\t2000\n",
    "HTML5\t2014"
   ]
  },
  {
   "cell_type": "markdown",
   "id": "3c77962e",
   "metadata": {},
   "source": [
    "# HTML Page Structure"
   ]
  },
  {
   "cell_type": "markdown",
   "id": "c1d0431c",
   "metadata": {},
   "source": [
    "# <head>\n",
    "element contains metadata about the page. HTML metadata is data about the HTML document and metadata is not displayed. Metadata typically defines the document title, character set, styles, scripts, and other meta information."
   ]
  },
  {
   "cell_type": "markdown",
   "id": "f438ec6b",
   "metadata": {},
   "source": [
    "# <body>\n",
    "    indicates what should appear in the main browser window."
   ]
  },
  {
   "cell_type": "markdown",
   "id": "c329deb1",
   "metadata": {},
   "source": [
    "# A Simple HTML Document"
   ]
  },
  {
   "cell_type": "code",
   "execution_count": null,
   "id": "528739b1",
   "metadata": {},
   "outputs": [],
   "source": [
    "<!DOCTYPE html>\n",
    "<html>\n",
    "    <head>\n",
    "        <title>Page Title</title>\n",
    "    </head>\n",
    "    <body>\n",
    "        <h1>This is a Heading</h1>\n",
    "        <p>This is a paragraph.</p>\n",
    "</body>\n",
    "</html>"
   ]
  },
  {
   "cell_type": "markdown",
   "id": "3430d14d",
   "metadata": {},
   "source": [
    "**Explanation of HTML Document:\n",
    "\n",
    "The <!DOCTYPE html> declaration defines this document to be HTML5.\n",
    "\n",
    "ÖNEMLİ: The <html> element is the **root element of an HTML page.***\n",
    "\n",
    "The <head> element contains **meta information about the document.**\n",
    "\n",
    "The <title> element specifies a ***title for the document.***\n",
    "\n",
    "ÖNEMLİ: The <body> element contains the ***visible page content.***\n",
    "\n",
    "The <h1> element defines a ***large heading.***\n",
    "\n",
    "The <p> element defines a ***paragraph.***"
   ]
  },
  {
   "cell_type": "code",
   "execution_count": null,
   "id": "2f6b5927",
   "metadata": {},
   "outputs": [],
   "source": [
    "NOTE: HTML is a markup language used to create documents on the web."
   ]
  },
  {
   "cell_type": "code",
   "execution_count": null,
   "id": "842fb4c9",
   "metadata": {},
   "outputs": [],
   "source": []
  },
  {
   "cell_type": "code",
   "execution_count": null,
   "id": "d0ce2cea",
   "metadata": {},
   "outputs": [],
   "source": []
  }
 ],
 "metadata": {
  "kernelspec": {
   "display_name": "Python 3",
   "language": "python",
   "name": "python3"
  },
  "language_info": {
   "codemirror_mode": {
    "name": "ipython",
    "version": 3
   },
   "file_extension": ".py",
   "mimetype": "text/x-python",
   "name": "python",
   "nbconvert_exporter": "python",
   "pygments_lexer": "ipython3",
   "version": "3.8.8"
  }
 },
 "nbformat": 4,
 "nbformat_minor": 5
}
