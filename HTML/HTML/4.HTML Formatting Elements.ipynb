{
 "cells": [
  {
   "cell_type": "markdown",
   "id": "e55166aa",
   "metadata": {},
   "source": [
    "# HTML < b > Element"
   ]
  },
  {
   "cell_type": "markdown",
   "id": "a2e46e74",
   "metadata": {},
   "source": [
    "**The <b> element is used to define bold text."
   ]
  },
  {
   "cell_type": "code",
   "execution_count": null,
   "id": "63e32161",
   "metadata": {},
   "outputs": [],
   "source": [
    "<!DOCTYPE html>\n",
    "<html>\n",
    "   <body>\n",
    "    <p>This is a <b>bold</b> text</p>\n",
    "   </body>\n",
    "</html>"
   ]
  },
  {
   "cell_type": "markdown",
   "id": "cb69f4ee",
   "metadata": {},
   "source": [
    "# HTML < strong > Element"
   ]
  },
  {
   "cell_type": "code",
   "execution_count": null,
   "id": "6a9456af",
   "metadata": {},
   "outputs": [],
   "source": [
    "The <strong> element is used to define strong text.\n",
    "The <strong> element uses for the ***semantic important texts.***"
   ]
  },
  {
   "cell_type": "code",
   "execution_count": null,
   "id": "7de52e22",
   "metadata": {},
   "outputs": [],
   "source": [
    "<!DOCTYPE html>\n",
    "<html>\n",
    "<body>\n",
    "<p>This is a <strong>strong</strong> text</p>\n",
    "</body>\n",
    "</html>"
   ]
  },
  {
   "cell_type": "markdown",
   "id": "3b1c52d7",
   "metadata": {},
   "source": [
    "# HTML < i > Element"
   ]
  },
  {
   "cell_type": "code",
   "execution_count": null,
   "id": "a2d39430",
   "metadata": {},
   "outputs": [],
   "source": [
    "The <i> element is used to define italic text."
   ]
  },
  {
   "cell_type": "code",
   "execution_count": null,
   "id": "426f2f1e",
   "metadata": {},
   "outputs": [],
   "source": [
    "<!DOCTYPE html>\n",
    "<html>\n",
    "   <body>\n",
    "    <p>This is an <i>italic</i> text</p>\n",
    "   </body>\n",
    "</html>"
   ]
  },
  {
   "cell_type": "markdown",
   "id": "00cd1fc8",
   "metadata": {},
   "source": [
    "# HTML < em > Element"
   ]
  },
  {
   "cell_type": "code",
   "execution_count": null,
   "id": "f28c5918",
   "metadata": {},
   "outputs": [],
   "source": [
    "The <em> element is used to define emphasized text.\n",
    "\n",
    "***\n",
    "<em> means that the text is \"important\".\n",
    "***"
   ]
  },
  {
   "cell_type": "code",
   "execution_count": null,
   "id": "2735c91c",
   "metadata": {},
   "outputs": [],
   "source": [
    "<!DOCTYPE html>\n",
    "<html>\n",
    "   <body>\n",
    "    <p>This is an <em>emphasized</em> text</p>\n",
    "   </body>\n",
    "</html>"
   ]
  },
  {
   "cell_type": "markdown",
   "id": "f80efb05",
   "metadata": {},
   "source": [
    "# The Difference Between Bold and Strong, Emphasized and Italics."
   ]
  },
  {
   "cell_type": "markdown",
   "id": "7463f2ab",
   "metadata": {},
   "source": [
    "**<strong> and <b> tags make text bold. They're identical when it comes to presentation.\n",
    "\n",
    "<strong> represents a span of text with strong importance. There is an important semantic meaning here. They may look the same to humans. But, when a search engine spiders and analyzes a page, text in <strong> tags is considered important. Text in <b> tags is not.\n",
    "\n",
    "Just like <strong> and <b>, <em> and <i> are identical in terms of presentation. They both make text italic. There is no semantic meaning for <i> tag. But, <em> tag represents a span of text with emphatic stress like <strong> tag."
   ]
  },
  {
   "cell_type": "markdown",
   "id": "e808d0fd",
   "metadata": {},
   "source": [
    "# HTML < small> Element"
   ]
  },
  {
   "cell_type": "code",
   "execution_count": null,
   "id": "7f21bb6e",
   "metadata": {},
   "outputs": [],
   "source": [
    "***\n",
    "The <small> element is used to define smaller text.\n",
    "***"
   ]
  },
  {
   "cell_type": "code",
   "execution_count": 2,
   "id": "a40d5ea0",
   "metadata": {},
   "outputs": [
    {
     "ename": "SyntaxError",
     "evalue": "invalid syntax (<ipython-input-2-cf1ecbabd47b>, line 1)",
     "output_type": "error",
     "traceback": [
      "\u001b[1;36m  File \u001b[1;32m\"<ipython-input-2-cf1ecbabd47b>\"\u001b[1;36m, line \u001b[1;32m1\u001b[0m\n\u001b[1;33m    <!DOCTYPE html>\u001b[0m\n\u001b[1;37m    ^\u001b[0m\n\u001b[1;31mSyntaxError\u001b[0m\u001b[1;31m:\u001b[0m invalid syntax\n"
     ]
    }
   ],
   "source": [
    "<!DOCTYPE html>\n",
    "<html>\n",
    "   <body>\n",
    "    <p>This is a <small>smaller</small> text</p>\n",
    "   </body>\n",
    "</html>"
   ]
  },
  {
   "cell_type": "markdown",
   "id": "cb93acfd",
   "metadata": {},
   "source": [
    "# HTML < sup > Element"
   ]
  },
  {
   "cell_type": "code",
   "execution_count": null,
   "id": "d92887d3",
   "metadata": {},
   "outputs": [],
   "source": [
    "The <sup> element is used to define superscript characters such as the suffixes of dates."
   ]
  },
  {
   "cell_type": "code",
   "execution_count": 1,
   "id": "1279872b",
   "metadata": {},
   "outputs": [
    {
     "ename": "SyntaxError",
     "evalue": "invalid syntax (<ipython-input-1-927c35eee250>, line 1)",
     "output_type": "error",
     "traceback": [
      "\u001b[1;36m  File \u001b[1;32m\"<ipython-input-1-927c35eee250>\"\u001b[1;36m, line \u001b[1;32m1\u001b[0m\n\u001b[1;33m    <!DOCTYPE html>\u001b[0m\n\u001b[1;37m    ^\u001b[0m\n\u001b[1;31mSyntaxError\u001b[0m\u001b[1;31m:\u001b[0m invalid syntax\n"
     ]
    }
   ],
   "source": [
    "<!DOCTYPE html>\n",
    "<html>\n",
    "   <body>\n",
    "    <p>Today is 15<sup>th</sup> of february.</p>\n",
    "   </body>\n",
    "</html>\n"
   ]
  },
  {
   "cell_type": "code",
   "execution_count": null,
   "id": "9f878443",
   "metadata": {},
   "outputs": [],
   "source": [
    "Today is 15th of february."
   ]
  },
  {
   "cell_type": "markdown",
   "id": "4b86cd0d",
   "metadata": {},
   "source": [
    "# HTML < sub > Element"
   ]
  },
  {
   "cell_type": "code",
   "execution_count": null,
   "id": "049e4355",
   "metadata": {},
   "outputs": [],
   "source": [
    "The <sub> element is used to define subscripted text."
   ]
  },
  {
   "cell_type": "code",
   "execution_count": 4,
   "id": "19e95714",
   "metadata": {},
   "outputs": [
    {
     "ename": "SyntaxError",
     "evalue": "invalid syntax (<ipython-input-4-ecc9f1f61343>, line 2)",
     "output_type": "error",
     "traceback": [
      "\u001b[1;36m  File \u001b[1;32m\"<ipython-input-4-ecc9f1f61343>\"\u001b[1;36m, line \u001b[1;32m2\u001b[0m\n\u001b[1;33m    <html>\u001b[0m\n\u001b[1;37m    ^\u001b[0m\n\u001b[1;31mSyntaxError\u001b[0m\u001b[1;31m:\u001b[0m invalid syntax\n"
     ]
    }
   ],
   "source": [
    "<!DOCTYPE html>\n",
    "<html>\n",
    "   <body>\n",
    "    <p>This is a <sub>subscripted</sub> text</p>\n",
    "   </body>\n",
    "</html>"
   ]
  },
  {
   "cell_type": "markdown",
   "id": "29b3ac34",
   "metadata": {},
   "source": [
    "# HTML < mark > Element"
   ]
  },
  {
   "cell_type": "code",
   "execution_count": null,
   "id": "31575579",
   "metadata": {},
   "outputs": [],
   "source": [
    "***\n",
    "The <mark> element is used to define marked text.\n",
    "***"
   ]
  },
  {
   "cell_type": "code",
   "execution_count": null,
   "id": "b379b711",
   "metadata": {},
   "outputs": [],
   "source": [
    "<!DOCTYPE html>\n",
    "<html>\n",
    "   <body>\n",
    "    <p>This is a <mark>marked</mark> text</p>\n",
    "   </body>\n",
    "</html>"
   ]
  },
  {
   "cell_type": "markdown",
   "id": "22ed3b78",
   "metadata": {},
   "source": [
    "# HTML < ins > Element"
   ]
  },
  {
   "cell_type": "code",
   "execution_count": null,
   "id": "a30edd03",
   "metadata": {},
   "outputs": [],
   "source": [
    "***\n",
    "The <ins> element is used to define inserted text.\n",
    "***"
   ]
  },
  {
   "cell_type": "code",
   "execution_count": null,
   "id": "a4bd3755",
   "metadata": {},
   "outputs": [],
   "source": [
    "<!DOCTYPE html>\n",
    "<html>\n",
    "   <body>\n",
    "    <p>This is an <ins>inserted</ins> text</p>\n",
    "   </body>\n",
    "</html>"
   ]
  },
  {
   "cell_type": "markdown",
   "id": "ed771864",
   "metadata": {},
   "source": [
    "# HTML < del > Element"
   ]
  },
  {
   "cell_type": "code",
   "execution_count": null,
   "id": "94bd2c05",
   "metadata": {},
   "outputs": [],
   "source": [
    "The <del> element is used to define deleted text."
   ]
  },
  {
   "cell_type": "code",
   "execution_count": null,
   "id": "17b4468c",
   "metadata": {},
   "outputs": [],
   "source": [
    "<!DOCTYPE html>\n",
    "<html>\n",
    "   <body>\n",
    "    <p>This is a <del>deleted</del> text</p>\n",
    "   </body>\n",
    "</html>"
   ]
  },
  {
   "cell_type": "markdown",
   "id": "f4738ebf",
   "metadata": {},
   "source": [
    "# Summary of HTML Formatting Elements"
   ]
  },
  {
   "cell_type": "code",
   "execution_count": null,
   "id": "12378fe4",
   "metadata": {},
   "outputs": [],
   "source": [
    "Tag\tDescription\n",
    "< b >\tBold text\n",
    "< i >\tItalic text\n",
    "< strong >\tStrong text\n",
    "< em >\tEmphasized text\n",
    "< small >\tSmaller text\n",
    "< sup >\tSuperscripted text\n",
    "< sub >\tSubscripted text\n",
    "< mark >\tMarked text\n",
    "< ins >\tInserted text\n",
    "< del >\tDeleted text"
   ]
  },
  {
   "cell_type": "code",
   "execution_count": null,
   "id": "b8097121",
   "metadata": {},
   "outputs": [],
   "source": [
    "<!DOCTYPE html>\n",
    "<html>\n",
    "   <body>\n",
    "    <p>This is a <b>bold</b> text</p>\n",
    "    <p>This is a <strong>strong</strong> text</p>\n",
    "    <p>This is an <i>italic</i> text</p>\n",
    "    <p>This is an <em>emphasized</em> text</p>\n",
    "    <p>This is a <small>small</small> text</p>\n",
    "    <p>Today is 15<sup>th</sup> of february.</p>\n",
    "    <p>This is a <sub>subscripted</sub> text</p>\n",
    "    <p>This is a <mark>marked</mark> text</p>\n",
    "    <p>This is a <ins>inserted</ins> text</p>\n",
    "    <p>This is a <del>deleted</del> text</p>\n",
    "   </body>\n",
    "</html>"
   ]
  },
  {
   "cell_type": "markdown",
   "id": "55a15228",
   "metadata": {},
   "source": []
  },
  {
   "cell_type": "code",
   "execution_count": null,
   "id": "6ca5974e",
   "metadata": {},
   "outputs": [],
   "source": []
  }
 ],
 "metadata": {
  "kernelspec": {
   "display_name": "Python 3",
   "language": "python",
   "name": "python3"
  },
  "language_info": {
   "codemirror_mode": {
    "name": "ipython",
    "version": 3
   },
   "file_extension": ".py",
   "mimetype": "text/x-python",
   "name": "python",
   "nbconvert_exporter": "python",
   "pygments_lexer": "ipython3",
   "version": "3.8.8"
  }
 },
 "nbformat": 4,
 "nbformat_minor": 5
}
