{
 "cells": [
  {
   "cell_type": "markdown",
   "id": "32056035",
   "metadata": {},
   "source": [
    "# HTML Elements"
   ]
  },
  {
   "cell_type": "markdown",
   "id": "e4da669c",
   "metadata": {},
   "source": [
    "HTML is composed of elements. HTML uses these elements to **describe the structure of pages.** **A tag and the content between it is called an HTML element.** Elements are usually made up of two tags: An opening tag and a closing tag. The opening tag is also called the starting tag, and the closing tag is called the end tag. Each HTML element tells the browser something about the information that is between its opening and closing tags."
   ]
  },
  {
   "cell_type": "code",
   "execution_count": null,
   "id": "bffaf7e2",
   "metadata": {},
   "outputs": [],
   "source": [
    "Ex: <h1>content</h1>\n",
    "content is an element.\n",
    "h1 is an tag"
   ]
  },
  {
   "cell_type": "markdown",
   "id": "5109acd3",
   "metadata": {},
   "source": [
    "# Nested HTML Elements"
   ]
  },
  {
   "cell_type": "code",
   "execution_count": null,
   "id": "6cc23028",
   "metadata": {},
   "outputs": [],
   "source": [
    "All HTML documents composed of nested HTML elements."
   ]
  },
  {
   "cell_type": "code",
   "execution_count": null,
   "id": "258ceb71",
   "metadata": {},
   "outputs": [],
   "source": [
    "<!DOCTYPE html>\n",
    "<html>\n",
    "    <body>\n",
    "        <h1>This is a Heading</h1>\n",
    "        <p>This is a paragraph.</p>\n",
    "    </body>\n",
    "</html>"
   ]
  },
  {
   "cell_type": "markdown",
   "id": "6806f114",
   "metadata": {},
   "source": [
    "# Empty HTML Elements"
   ]
  },
  {
   "cell_type": "code",
   "execution_count": null,
   "id": "ee62c3a5",
   "metadata": {},
   "outputs": [],
   "source": [
    "***If a HTML element does not have any content, it is called empty element.***\n",
    "ÖNEMLİ: ***Empty HTML elements do not have a closing tag.***\n",
    "For example, <br> and <img> elements are empty elements."
   ]
  },
  {
   "cell_type": "markdown",
   "id": "75526f6c",
   "metadata": {},
   "source": [
    "# HTML Tags"
   ]
  },
  {
   "cell_type": "raw",
   "id": "e8e0adcd",
   "metadata": {},
   "source": [
    "HTML tags are element names surrounded by angle brackets. The element name indicates the tag's purpose. For example, p stands for paragraph.\n",
    "The opening tag denotes the start of a piece of content. The opening tag is composed of the left-angle bracket, element name, and right-angle bracket."
   ]
  },
  {
   "cell_type": "raw",
   "id": "079af03e",
   "metadata": {},
   "source": [
    "the closing tag denotes the end of an HTML element. The closing tag is composed of the left-angle bracket, forward slash, element name, and right-angle bracket."
   ]
  },
  {
   "cell_type": "markdown",
   "id": "b991f668",
   "metadata": {},
   "source": [
    "# HTML Div Tag: DAHA ÇOK ÇALIŞ BU KONUYA"
   ]
  },
  {
   "cell_type": "markdown",
   "id": "90c43c40",
   "metadata": {},
   "source": [
    "A <div> section in a document that is styled with CSS:\n",
    "\n",
    "The <div> tag defines a division or a section in an HTML document.\n",
    "\n",
    "The <div> tag is used as a container for HTML elements - which is then styled with CSS or manipulated with JavaScript."
   ]
  },
  {
   "cell_type": "markdown",
   "id": "bd23dcce",
   "metadata": {},
   "source": [
    "The <div> tag is easily styled by using the class or id attribute.\n",
    "\n",
    "Any sort of content can be put inside the <div> tag!\n",
    "\n",
    "Note: By default, browsers always place a line break before and after the <div> element."
   ]
  },
  {
   "cell_type": "markdown",
   "id": "9712e372",
   "metadata": {},
   "source": [
    "# HTML Attributes"
   ]
  },
  {
   "cell_type": "markdown",
   "id": "26c9dd85",
   "metadata": {},
   "source": [
    "Attributes provide additional information about the contents of an element. Attributes are always specified in the opening tag and are made up of two parts: a name and a value, **separated by an equals sign.** For example, The style attribute is used to specify the styling of an element, like color, font, size etc."
   ]
  },
  {
   "cell_type": "code",
   "execution_count": null,
   "id": "d4675e06",
   "metadata": {},
   "outputs": [],
   "source": [
    "<tag attribute=\"value\">\n",
    "Ex: <img src=\"myimage.jpg\">"
   ]
  },
  {
   "cell_type": "code",
   "execution_count": null,
   "id": "66961aa1",
   "metadata": {},
   "outputs": [],
   "source": []
  },
  {
   "cell_type": "code",
   "execution_count": null,
   "id": "582fc2be",
   "metadata": {},
   "outputs": [],
   "source": []
  },
  {
   "cell_type": "code",
   "execution_count": null,
   "id": "bdb2f61f",
   "metadata": {},
   "outputs": [],
   "source": []
  },
  {
   "cell_type": "markdown",
   "id": "056500a2",
   "metadata": {},
   "source": [
    "# ****EXTRA INFORMATION****"
   ]
  },
  {
   "cell_type": "code",
   "execution_count": null,
   "id": "d18dd716",
   "metadata": {},
   "outputs": [],
   "source": [
    "<img src=\"myimage.jpg\">"
   ]
  },
  {
   "cell_type": "code",
   "execution_count": null,
   "id": "abe28711",
   "metadata": {},
   "outputs": [],
   "source": []
  }
 ],
 "metadata": {
  "kernelspec": {
   "display_name": "Python 3",
   "language": "python",
   "name": "python3"
  },
  "language_info": {
   "codemirror_mode": {
    "name": "ipython",
    "version": 3
   },
   "file_extension": ".py",
   "mimetype": "text/x-python",
   "name": "python",
   "nbconvert_exporter": "python",
   "pygments_lexer": "ipython3",
   "version": "3.8.8"
  }
 },
 "nbformat": 4,
 "nbformat_minor": 5
}
