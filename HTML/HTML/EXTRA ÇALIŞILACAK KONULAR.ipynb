{
 "cells": [
  {
   "cell_type": "markdown",
   "id": "6455bb9b",
   "metadata": {},
   "source": [
    "# Horizontal Lines: extra çalış"
   ]
  },
  {
   "cell_type": "code",
   "execution_count": null,
   "id": "c8ee9438",
   "metadata": {},
   "outputs": [],
   "source": [
    "The <hr> tag creates a horizontal line.\n",
    "\n",
    "The <hr> tag is displayed as a horizontal rule.\n",
    "\n",
    "???***The <hr> tag is used to ***separate content on a HTML page.***"
   ]
  },
  {
   "cell_type": "code",
   "execution_count": null,
   "id": "658d2f4f",
   "metadata": {},
   "outputs": [],
   "source": [
    "<!DOCTYPE html>\n",
    "<html>\n",
    "<body>\n",
    "  <h1>This is heading</h1>\n",
    "  <p>Horizantal Line is below. </p>\n",
    "  <hr>\n",
    "  <p>Horizantal Line is above. </p>\n",
    "</body>\n",
    "</html>"
   ]
  },
  {
   "cell_type": "markdown",
   "id": "95cb8e4d",
   "metadata": {},
   "source": [
    "# HTML < strong > Element"
   ]
  },
  {
   "cell_type": "code",
   "execution_count": null,
   "id": "64d162d0",
   "metadata": {},
   "outputs": [],
   "source": [
    "The <strong> element is used to define strong text.\n",
    "The <strong> element uses for the ***semantic important texts.***"
   ]
  },
  {
   "cell_type": "code",
   "execution_count": null,
   "id": "64ede60b",
   "metadata": {},
   "outputs": [],
   "source": [
    "<!DOCTYPE html>\n",
    "<html>\n",
    "<body>\n",
    "<p>This is a <strong>strong</strong> text</p>\n",
    "</body>\n",
    "</html>"
   ]
  },
  {
   "cell_type": "markdown",
   "id": "5dc001db",
   "metadata": {},
   "source": [
    "# The Difference Between Bold and Strong, Emphasized and Italics."
   ]
  },
  {
   "cell_type": "raw",
   "id": "27d85499",
   "metadata": {},
   "source": [
    "<strong> and <b> tags make text bold. They're identical when it comes to presentation.\n",
    "\n",
    "<strong> represents a span of text with strong importance. There is an important semantic meaning here. They may look the same to humans. But, when a search engine spiders and analyzes a page, text in <strong> tags is considered important. Text in <b> tags is not.\n",
    "\n",
    "Just like <strong> and <b>, <em> and <i> are identical in terms of presentation. They both make text italic. There is no semantic meaning for <i> tag. But, <em> tag represents a span of text with emphatic stress like <strong> tag."
   ]
  },
  {
   "cell_type": "markdown",
   "id": "771fe9cb",
   "metadata": {},
   "source": [
    "# HTML < ins > Element"
   ]
  },
  {
   "cell_type": "code",
   "execution_count": null,
   "id": "036d4d58",
   "metadata": {},
   "outputs": [],
   "source": [
    "The <ins> element is used to define inserted text."
   ]
  },
  {
   "cell_type": "code",
   "execution_count": null,
   "id": "ef0426db",
   "metadata": {},
   "outputs": [],
   "source": [
    "<!DOCTYPE html>\n",
    "<html>\n",
    "   <body>\n",
    "    <p>This is an <ins>inserted</ins> text</p>\n",
    "   </body>\n",
    "</html>"
   ]
  },
  {
   "cell_type": "markdown",
   "id": "7c347539",
   "metadata": {},
   "source": [
    "# The alt attribute"
   ]
  },
  {
   "cell_type": "raw",
   "id": "2fb751dd",
   "metadata": {},
   "source": [
    "# The alt attributeThe alt attribute is used to provide an alternate text for an image in case the image fails to load on a web page or it is not supported by the browser, etc.\n",
    "Moreover, Visually impaired users browse the web via screen reading software. the screen reading software can read the text inside an alt attribute for impaired users.\n",
    "We should add alt attribute to the image tag just like the src attribute."
   ]
  },
  {
   "cell_type": "code",
   "execution_count": null,
   "id": "9446b7ee",
   "metadata": {},
   "outputs": [],
   "source": [
    "<!DOCTYPE html>\n",
    "<html>\n",
    "   <body>\n",
    "      <h1>HTML Image</h1>\n",
    "      <img src=\"https://clarusway.comt/uploads/2019/11/ClaruswayLOGO_png100_326.png\" alt=\"Clarusway\">\n",
    "   </body>\n",
    "</html>"
   ]
  }
 ],
 "metadata": {
  "kernelspec": {
   "display_name": "Python 3",
   "language": "python",
   "name": "python3"
  },
  "language_info": {
   "codemirror_mode": {
    "name": "ipython",
    "version": 3
   },
   "file_extension": ".py",
   "mimetype": "text/x-python",
   "name": "python",
   "nbconvert_exporter": "python",
   "pygments_lexer": "ipython3",
   "version": "3.8.8"
  }
 },
 "nbformat": 4,
 "nbformat_minor": 5
}
