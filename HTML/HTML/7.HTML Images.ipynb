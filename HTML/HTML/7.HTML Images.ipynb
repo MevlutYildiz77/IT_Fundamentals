{
 "cells": [
  {
   "cell_type": "markdown",
   "id": "091b2db2",
   "metadata": {},
   "source": [
    "# The < img > Tag"
   ]
  },
  {
   "cell_type": "code",
   "execution_count": null,
   "id": "c013425c",
   "metadata": {},
   "outputs": [],
   "source": [
    "***The <img> tag is used to define an image.***\n",
    "***The <img> tag is empty. It means that it does not have a closing tag.***\n",
    "***The src attribute allows us to specify the web address (URL) of the image and it is mandatory.***"
   ]
  },
  {
   "cell_type": "code",
   "execution_count": null,
   "id": "945372a9",
   "metadata": {},
   "outputs": [],
   "source": [
    "<!DOCTYPE html>\n",
    "<html>\n",
    "   <body>\n",
    "      <h1>HTML Image</h1>\n",
    "      <img src=\"https://lms.clarusway.com/theme/image.php/boost/theme_boost/1581703952/Clarusway-LOGOTYPE\">\n",
    "   </body>\n",
    "</html>"
   ]
  },
  {
   "cell_type": "markdown",
   "id": "675c3b7c",
   "metadata": {},
   "source": [
    "# The alt attribute"
   ]
  },
  {
   "cell_type": "raw",
   "id": "cf12ad2a",
   "metadata": {},
   "source": [
    "The alt attribute is used to ***provide an alternate text for an image in case the image fails to load on a web page or it is not supported by the browser, etc.***\n",
    "???Moreover, Visually impaired users browse the web via screen reading software. the screen reading software can read the text inside an alt attribute for impaired users.\n",
    "***We should add alt attribute to the image tag just like the src attribute.***"
   ]
  },
  {
   "cell_type": "code",
   "execution_count": null,
   "id": "421b8116",
   "metadata": {},
   "outputs": [],
   "source": [
    "<!DOCTYPE html>\n",
    "<html>\n",
    "   <body>\n",
    "      <h1>HTML Image</h1>\n",
    "      <img src=\"https://clarusway.comt/uploads/2019/11/ClaruswayLOGO_png100_326.png\" alt=\"Clarusway\">\n",
    "   </body>\n",
    "</html>"
   ]
  },
  {
   "cell_type": "markdown",
   "id": "3db2da8e",
   "metadata": {},
   "source": [
    "# The width and height attributes"
   ]
  },
  {
   "cell_type": "code",
   "execution_count": null,
   "id": "ae5bff21",
   "metadata": {},
   "outputs": [],
   "source": [
    "The width and height attributes are used to resize images."
   ]
  },
  {
   "cell_type": "code",
   "execution_count": null,
   "id": "bc95bf62",
   "metadata": {},
   "outputs": [],
   "source": [
    "<!DOCTYPE html>\n",
    "<html>\n",
    "   <body>\n",
    "      <h1>HTML Image</h1>\n",
    "      <h2>Clarusway</h2>\n",
    "      <img src=\"https://clarusway.com/wp-content/uploads/2019/11/ClaruswayLOGO_png100_326.png\" alt=\"Clarusway\" width=\"100%\" height=\"auto\">\n",
    "   </body>\n",
    "</html>"
   ]
  },
  {
   "cell_type": "markdown",
   "id": "7b001622",
   "metadata": {},
   "source": [
    "# The border attribute"
   ]
  },
  {
   "cell_type": "code",
   "execution_count": null,
   "id": "61e358ee",
   "metadata": {},
   "outputs": [],
   "source": [
    "By default, an image has no borders.\n",
    "To add a border around the image, we can use border attribute."
   ]
  },
  {
   "cell_type": "code",
   "execution_count": null,
   "id": "0bb86b31",
   "metadata": {},
   "outputs": [],
   "source": [
    "<!DOCTYPE html>\n",
    "<html>\n",
    "   <body>\n",
    "      <h1>HTML Image</h1>\n",
    "      <img src=\"https://clarusway.com/wp-content/uploads/2019/12/cw_sonk%C3%BC%C3%A7%C3%BCk2.png\" alt=\"Clarusway\" border=\"2px\">\n",
    "   </body>\n",
    "</html>"
   ]
  },
  {
   "cell_type": "code",
   "execution_count": null,
   "id": "03db7fd7",
   "metadata": {},
   "outputs": [],
   "source": []
  }
 ],
 "metadata": {
  "kernelspec": {
   "display_name": "Python 3",
   "language": "python",
   "name": "python3"
  },
  "language_info": {
   "codemirror_mode": {
    "name": "ipython",
    "version": 3
   },
   "file_extension": ".py",
   "mimetype": "text/x-python",
   "name": "python",
   "nbconvert_exporter": "python",
   "pygments_lexer": "ipython3",
   "version": "3.8.8"
  }
 },
 "nbformat": 4,
 "nbformat_minor": 5
}
